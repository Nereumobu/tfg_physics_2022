{
 "cells": [
  {
   "cell_type": "markdown",
   "id": "7f629719",
   "metadata": {},
   "source": [
    "# Analysis of Alanine dipeptide with Umbrella sampling"
   ]
  },
  {
   "cell_type": "markdown",
   "id": "2b9d2b5e",
   "metadata": {},
   "source": [
    "## Relevant imports"
   ]
  },
  {
   "cell_type": "code",
   "execution_count": 1,
   "id": "8b95a5c2",
   "metadata": {
    "ExecuteTime": {
     "end_time": "2023-02-21T12:18:08.587853Z",
     "start_time": "2023-02-21T12:18:05.283305Z"
    }
   },
   "outputs": [],
   "source": [
    "import os\n",
    "import numpy as np\n",
    "import matplotlib.pyplot as plt\n",
    "import simtk.openmm as mm\n",
    "import simtk.openmm.app as app\n",
    "from openmmtools.testsystems import AlanineDipeptideExplicit\n",
    "import mdtraj as md"
   ]
  },
  {
   "cell_type": "markdown",
   "id": "88d221f3",
   "metadata": {},
   "source": [
    "## Gathering the data"
   ]
  },
  {
   "cell_type": "markdown",
   "id": "5c6407d8",
   "metadata": {},
   "source": [
    "### Obtaining trajectory"
   ]
  },
  {
   "cell_type": "code",
   "execution_count": 2,
   "id": "9e315017",
   "metadata": {
    "ExecuteTime": {
     "end_time": "2023-02-21T12:18:08.603850Z",
     "start_time": "2023-02-21T12:18:08.587853Z"
    }
   },
   "outputs": [],
   "source": [
    "import shutil"
   ]
  },
  {
   "cell_type": "code",
   "execution_count": 3,
   "id": "1fe72d0d",
   "metadata": {
    "ExecuteTime": {
     "end_time": "2023-02-21T12:18:08.635838Z",
     "start_time": "2023-02-21T12:18:08.603850Z"
    }
   },
   "outputs": [],
   "source": [
    "source_folder = r\"C:\\\\Users\\\\nereu\\\\TFG_physics_final\\\\results\\\\\"\n",
    "name=\"alad-015M-15A-NOCHARMM-US-stray-filesalad-015M-15A-phi-\"\n",
    "destination_folder = \"C:\\\\Users\\\\nereu\\\\TFG_physics_final\\\\results\\\\alad-015M-15A-run-NOCHARMM-US-stray-files\\\\\"\n",
    "\n",
    "\n",
    "# fetch all files\n",
    "for file_name in os.listdir(source_folder):\n",
    "    # construct full file path\n",
    "    source = source_folder + file_name\n",
    "    destination = destination_folder + file_name\n",
    "    # move only files\n",
    "    if name in file_name:\n",
    "        shutil.move(source, destination)\n",
    "        #print('Moved:', file_name)"
   ]
  },
  {
   "cell_type": "code",
   "execution_count": 4,
   "id": "222ce6c2",
   "metadata": {
    "ExecuteTime": {
     "end_time": "2023-02-21T12:18:48.245657Z",
     "start_time": "2023-02-21T12:18:08.635838Z"
    }
   },
   "outputs": [],
   "source": [
    "# Set the directory path\n",
    "directory = 'results/alad-015M-15A-run-NOCHARMM-US-3/'\n",
    "name=\"alad-015M-15A\"\n",
    "# Get the list of all files in the directory\n",
    "files = os.listdir(directory)\n",
    "n_loops=100\n",
    "traj=[[] for i in range(n_loops)]\n",
    "# Iterate over all the files in the directory\n",
    "for file in files:\n",
    "    i=0\n",
    "    # Check if the file has the \".chk\" extension\n",
    "    if file.endswith(\"coords.npy\"):\n",
    "        loop=int(file.split(\"loop-\")[1].split(\"-coords\")[0])\n",
    "        i+=1\n",
    "        traj[int(loop)].append(np.load(directory+file))"
   ]
  },
  {
   "cell_type": "code",
   "execution_count": 5,
   "id": "c2df9c2b",
   "metadata": {
    "ExecuteTime": {
     "end_time": "2023-02-21T12:18:48.357653Z",
     "start_time": "2023-02-21T12:18:48.245657Z"
    }
   },
   "outputs": [
    {
     "data": {
      "text/plain": [
       "(100, 324, 2, 22, 3)"
      ]
     },
     "execution_count": 5,
     "metadata": {},
     "output_type": "execute_result"
    }
   ],
   "source": [
    "np.array(traj).shape"
   ]
  },
  {
   "cell_type": "code",
   "execution_count": 6,
   "id": "716f5d8f",
   "metadata": {
    "ExecuteTime": {
     "end_time": "2023-02-21T12:18:48.389672Z",
     "start_time": "2023-02-21T12:18:48.357653Z"
    }
   },
   "outputs": [],
   "source": [
    "new_traj=[[] for window_traj in traj[0]]\n",
    "for loop_traj in traj:\n",
    "    for index,window_traj in enumerate(loop_traj):\n",
    "        new_traj[index].append(window_traj)"
   ]
  },
  {
   "cell_type": "code",
   "execution_count": 7,
   "id": "ab50aaff",
   "metadata": {
    "ExecuteTime": {
     "end_time": "2023-02-21T12:18:48.405675Z",
     "start_time": "2023-02-21T12:18:48.389672Z"
    }
   },
   "outputs": [
    {
     "data": {
      "text/plain": [
       "(2, 22, 3)"
      ]
     },
     "execution_count": 7,
     "metadata": {},
     "output_type": "execute_result"
    }
   ],
   "source": [
    "np.array(traj[0][0]).shape"
   ]
  },
  {
   "cell_type": "code",
   "execution_count": 8,
   "id": "14b844ee",
   "metadata": {
    "ExecuteTime": {
     "end_time": "2023-02-21T12:18:48.485667Z",
     "start_time": "2023-02-21T12:18:48.413660Z"
    }
   },
   "outputs": [],
   "source": [
    "new_traj=np.array(new_traj)"
   ]
  },
  {
   "cell_type": "code",
   "execution_count": 9,
   "id": "15d15212",
   "metadata": {
    "ExecuteTime": {
     "end_time": "2023-02-21T12:18:48.509686Z",
     "start_time": "2023-02-21T12:18:48.485667Z"
    },
    "scrolled": true
   },
   "outputs": [
    {
     "data": {
      "text/plain": [
       "(324, 100, 2, 22, 3)"
      ]
     },
     "execution_count": 9,
     "metadata": {},
     "output_type": "execute_result"
    }
   ],
   "source": [
    "new_traj.shape"
   ]
  },
  {
   "cell_type": "code",
   "execution_count": 10,
   "id": "3b545ac0",
   "metadata": {
    "ExecuteTime": {
     "end_time": "2023-02-21T12:18:48.525688Z",
     "start_time": "2023-02-21T12:18:48.509686Z"
    }
   },
   "outputs": [],
   "source": [
    "#We reshape the trajectories as there are 50 snapshots in each np file\n",
    "traj_mult=new_traj.reshape(324,-1,22,3)"
   ]
  },
  {
   "cell_type": "markdown",
   "id": "1f271faf",
   "metadata": {},
   "source": [
    "### Obtaining topology"
   ]
  },
  {
   "cell_type": "code",
   "execution_count": 11,
   "id": "f42706da",
   "metadata": {
    "ExecuteTime": {
     "end_time": "2023-02-21T12:18:48.845722Z",
     "start_time": "2023-02-21T12:18:48.525688Z"
    }
   },
   "outputs": [],
   "source": [
    "topology_default=AlanineDipeptideExplicit().topology"
   ]
  },
  {
   "cell_type": "code",
   "execution_count": 12,
   "id": "2678f315",
   "metadata": {
    "ExecuteTime": {
     "end_time": "2023-02-21T12:18:48.981714Z",
     "start_time": "2023-02-21T12:18:48.845722Z"
    }
   },
   "outputs": [],
   "source": [
    "all_top=md.Topology.from_openmm(topology_default)\n",
    "atom_list=[]\n",
    "solute_top=md.Topology()\n",
    "# Iterate over the chains in the original Topology\n",
    "for chain in all_top.chains:\n",
    "    # Create a new Chain object in the solute Topology\n",
    "    solute_chain = solute_top.add_chain()\n",
    "    # Iterate over the residues in the chain\n",
    "    for residue in chain.residues:\n",
    "        # If the residue is a solute (ALA) residue, add it to the solute Topology\n",
    "        if residue.name != 'HOH':\n",
    "            solute_top.add_residue(residue.name, solute_chain)\n",
    "            #We append a list that will hold all the atoms of the same residue\n",
    "            atom_list.append([])\n",
    "            for atom in residue.atoms:\n",
    "                #We append tha atoms to their corresponding last list\n",
    "                atom_list[-1].append(atom)\n",
    "\n",
    "#Putting atoms in their residues\n",
    "solute_residue_list=[]\n",
    "for residue in solute_top.residues:\n",
    "    solute_residue_list.append(residue)\n",
    "for indx, atom_group in enumerate(atom_list):\n",
    "    for atom in atom_group:\n",
    "        solute_top.add_atom(atom.name, atom.element, solute_residue_list[indx])\n",
    "                \n",
    "\n",
    "# Iterate over the bonds in the solute residues\n",
    "for bond in all_top.bonds:\n",
    "    # Get the atoms that are bonded\n",
    "    atoms=bond\n",
    "    # If both atoms are in the solute Topology, add the bond\n",
    "    if atoms[0].residue.name != 'HOH' and atoms[1].residue.name != 'HOH':\n",
    "        solute_top.add_bond(atoms[0], atoms[1])\n"
   ]
  },
  {
   "cell_type": "markdown",
   "id": "71efe026",
   "metadata": {},
   "source": [
    "### Computing dihedrals"
   ]
  },
  {
   "cell_type": "code",
   "execution_count": 13,
   "id": "c0c647d4",
   "metadata": {
    "ExecuteTime": {
     "end_time": "2023-02-21T12:18:49.013717Z",
     "start_time": "2023-02-21T12:18:48.981714Z"
    }
   },
   "outputs": [],
   "source": [
    "import matplotlib as mpl\n",
    "def make2dhist(traj, name):\n",
    "    valphi=md.compute_phi(traj)[1]\n",
    "    valpsi=md.compute_psi(traj)[1]\n",
    "    histphi=np.array([value[0] for value in valphi])*180/(np.pi)\n",
    "    histpsi=np.array([value[0] for value in valpsi])*180/(np.pi)\n",
    "    h=plt.hist2d(histphi,histpsi, bins=100, norm=mpl.colors.LogNorm())[0]\n",
    "    plt.xlabel(\"$\\phi$\")\n",
    "    plt.ylabel(\"$\\psi$\")\n",
    "    plt.title(\"2D histogram for \"+str(name))"
   ]
  },
  {
   "cell_type": "code",
   "execution_count": 14,
   "id": "d53faa45",
   "metadata": {
    "ExecuteTime": {
     "end_time": "2023-02-21T12:18:49.085730Z",
     "start_time": "2023-02-21T12:18:49.013717Z"
    }
   },
   "outputs": [],
   "source": [
    "#Building trajectory\n",
    "window_traj=[]\n",
    "for traj in traj_mult:\n",
    "    window_traj.append(md.Trajectory(traj, solute_top))"
   ]
  },
  {
   "cell_type": "code",
   "execution_count": 15,
   "id": "f964327a",
   "metadata": {
    "ExecuteTime": {
     "end_time": "2023-02-21T12:18:49.221744Z",
     "start_time": "2023-02-21T12:18:49.085730Z"
    }
   },
   "outputs": [],
   "source": [
    "window_valphi=[]; window_valpsi=[]\n",
    "for md_traj in window_traj:\n",
    "    window_valphi.append(md.compute_phi(md_traj)[1].T[0])\n",
    "    window_valpsi.append(md.compute_psi(md_traj)[1].T[0])\n",
    "window_valpsi=np.array(window_valpsi)\n",
    "window_valphi=np.array(window_valphi)"
   ]
  },
  {
   "cell_type": "markdown",
   "id": "e58a310c",
   "metadata": {},
   "source": [
    "## Computing the energy matrix A"
   ]
  },
  {
   "cell_type": "code",
   "execution_count": 16,
   "id": "5e33b27b",
   "metadata": {
    "ExecuteTime": {
     "end_time": "2023-02-21T12:18:51.390759Z",
     "start_time": "2023-02-21T12:18:49.221744Z"
    }
   },
   "outputs": [],
   "source": [
    "from simtk.openmm import unit\n",
    "import FastMBAR"
   ]
  },
  {
   "cell_type": "code",
   "execution_count": 17,
   "id": "85da5427",
   "metadata": {
    "ExecuteTime": {
     "end_time": "2023-02-21T12:18:51.404413Z",
     "start_time": "2023-02-21T12:18:51.390759Z"
    }
   },
   "outputs": [],
   "source": [
    "#Physical constants\n",
    "T=298*unit.kelvin\n",
    "kbT=(unit.BOLTZMANN_CONSTANT_kB*T*unit.AVOGADRO_CONSTANT_NA).value_in_unit(unit.kilojoule_per_mole)"
   ]
  },
  {
   "cell_type": "code",
   "execution_count": 18,
   "id": "f9a490f1",
   "metadata": {
    "ExecuteTime": {
     "end_time": "2023-02-21T12:18:51.430744Z",
     "start_time": "2023-02-21T12:18:51.407705Z"
    }
   },
   "outputs": [],
   "source": [
    "#Computing the window ranges\n",
    "n_windows=360//20; angle_step=20*np.pi/180\n",
    "total_windows=n_windows*n_windows\n",
    "window_samples=window_valphi.shape[1]"
   ]
  },
  {
   "cell_type": "code",
   "execution_count": 19,
   "id": "05783430",
   "metadata": {
    "ExecuteTime": {
     "end_time": "2023-02-21T12:18:51.446730Z",
     "start_time": "2023-02-21T12:18:51.430744Z"
    }
   },
   "outputs": [],
   "source": [
    "#Force constant of bias potential\n",
    "K=131\n",
    "#Load dihedrals of the bias potential\n",
    "psi_bias=np.load('{}/{}-psi-bias.npy'.format(directory,name))\n",
    "phi_bias=np.load('{}/{}-psi-bias.npy'.format(directory,name))"
   ]
  },
  {
   "cell_type": "code",
   "execution_count": 20,
   "id": "a3d89bcc",
   "metadata": {
    "ExecuteTime": {
     "end_time": "2023-02-21T12:18:51.950802Z",
     "start_time": "2023-02-21T12:18:51.446730Z"
    }
   },
   "outputs": [],
   "source": [
    "A=np.zeros((total_windows, total_windows*window_samples))\n",
    "\n",
    "valpsi=np.reshape(window_valpsi, (-1,))\n",
    "valphi=np.reshape(window_valphi, (-1,))\n",
    "\n",
    "for index in range(total_windows):\n",
    "    psi_index= index//n_windows\n",
    "    phi_index=index%n_windows\n",
    "    \n",
    "    psi_c=psi_bias[psi_index]\n",
    "    phi_c=phi_bias[phi_index]\n",
    "    \n",
    "    psi_diff=np.abs(valpsi-psi_c)\n",
    "    psi_diff=np.minimum(psi_diff, 2*np.pi-psi_diff)\n",
    "\n",
    "    phi_diff=np.abs(valphi-phi_c)\n",
    "    phi_diff=np.minimum(phi_diff, 2*np.pi-phi_diff)\n",
    "    \n",
    "    A[index,:]=0.5*K*(psi_diff**2+phi_diff**2)/kbT"
   ]
  },
  {
   "cell_type": "code",
   "execution_count": 21,
   "id": "75c2261f",
   "metadata": {
    "ExecuteTime": {
     "end_time": "2023-02-21T12:18:51.966663Z",
     "start_time": "2023-02-21T12:18:51.950802Z"
    }
   },
   "outputs": [],
   "source": [
    "num_conf_all=np.array([window_samples for i in range(total_windows)])"
   ]
  },
  {
   "cell_type": "code",
   "execution_count": 22,
   "id": "c0b60230",
   "metadata": {
    "ExecuteTime": {
     "end_time": "2023-02-21T12:29:07.079836Z",
     "start_time": "2023-02-21T12:18:51.966663Z"
    }
   },
   "outputs": [
    {
     "name": "stdout",
     "output_type": "stream",
     "text": [
      "solve MBAR equation using CPU\n"
     ]
    }
   ],
   "source": [
    "fastmbar=FastMBAR.FastMBAR(energy=A, num_conf=num_conf_all,\n",
    "                           cuda=False, verbose=True, bootstrap=True)"
   ]
  },
  {
   "cell_type": "markdown",
   "id": "633e6417",
   "metadata": {},
   "source": [
    "## Compute Matrix B"
   ]
  },
  {
   "cell_type": "code",
   "execution_count": 23,
   "id": "07058d2c",
   "metadata": {
    "ExecuteTime": {
     "end_time": "2023-02-21T12:29:10.768859Z",
     "start_time": "2023-02-21T12:29:07.079836Z"
    }
   },
   "outputs": [],
   "source": [
    "#number of windows per dihedral\n",
    "l_PMF=50\n",
    "L_PMF=l_PMF*l_PMF\n",
    "\n",
    "#We divide the angles in this sense\n",
    "psi_PMF=np.linspace(-np.pi, np.pi, l_PMF, endpoint=False)\n",
    "phi_PMF=np.linspace(-np.pi, np.pi, l_PMF, endpoint=False)\n",
    "width=2*np.pi/l_PMF\n",
    "\n",
    "B=np.zeros((L_PMF, A.shape[1]))\n",
    "\n",
    "for index in range(L_PMF):\n",
    "    psi_index=index//l_PMF\n",
    "    phi_index=index%l_PMF\n",
    "    \n",
    "    psi_c_PMF=psi_PMF[psi_index]\n",
    "    phi_c_PMF=phi_PMF[phi_index]\n",
    "    \n",
    "    psi_low=psi_c_PMF-0.5*width\n",
    "    psi_high=psi_c_PMF+0.5*width\n",
    "\n",
    "    phi_low=phi_c_PMF-0.5*width\n",
    "    phi_high=phi_c_PMF+0.5*width\n",
    "    \n",
    "    psi_indicator=((valpsi > psi_low) & (valpsi <= psi_high)) | \\\n",
    "    ((valpsi + 2*np.pi > psi_low) & (valpsi + 2*np.pi <=psi_high)) | \\\n",
    "    ((valpsi - 2*np.pi > psi_low) & (valpsi - 2*np.pi <=psi_high))\n",
    "\n",
    "    phi_indicator = ((valphi > phi_low) & (valphi <= phi_high)) | \\\n",
    "    ((valphi + 2*np.pi > phi_low) & (valphi + 2*np.pi <=phi_high)) | \\\n",
    "    ((valphi - 2*np.pi > phi_low) & (valphi - 2*np.pi <=phi_high))\n",
    "     \n",
    "    indicator=psi_indicator & phi_indicator\n",
    "    B[index,~indicator]=np.inf\n",
    " "
   ]
  },
  {
   "cell_type": "code",
   "execution_count": 24,
   "id": "819ce0ce",
   "metadata": {
    "ExecuteTime": {
     "end_time": "2023-02-21T12:29:46.188192Z",
     "start_time": "2023-02-21T12:29:10.768859Z"
    }
   },
   "outputs": [
    {
     "name": "stderr",
     "output_type": "stream",
     "text": [
      "C:\\Users\\nereu\\anaconda3\\envs\\openmm2022\\lib\\site-packages\\FastMBAR\\fastmbar.py:272: RuntimeWarning: invalid value encountered in subtract\n",
      "  F = -(np.log(np.mean(np.exp(tmp-np.max(tmp,1,keepdims=True)), 1)) + np.max(tmp, 1))\n"
     ]
    }
   ],
   "source": [
    "##Compute PMF using the energy matrix B\n",
    "PMF, PMF_std=fastmbar.calculate_free_energies_of_perturbed_states(B)"
   ]
  },
  {
   "cell_type": "markdown",
   "id": "0742b5b9",
   "metadata": {
    "ExecuteTime": {
     "end_time": "2023-02-21T12:00:15.767714Z",
     "start_time": "2023-02-21T12:00:15.751712Z"
    }
   },
   "source": [
    "# Analyze data"
   ]
  },
  {
   "cell_type": "code",
   "execution_count": 25,
   "id": "09261496",
   "metadata": {
    "ExecuteTime": {
     "end_time": "2023-02-21T12:29:46.916536Z",
     "start_time": "2023-02-21T12:29:46.188192Z"
    }
   },
   "outputs": [],
   "source": [
    "import matplotlib as mpl\n",
    "import seaborn as sns\n",
    "import pandas as pd"
   ]
  },
  {
   "cell_type": "code",
   "execution_count": 26,
   "id": "a16d6d53",
   "metadata": {
    "ExecuteTime": {
     "end_time": "2023-02-21T12:29:46.947620Z",
     "start_time": "2023-02-21T12:29:46.923621Z"
    }
   },
   "outputs": [],
   "source": [
    "sns.set()"
   ]
  },
  {
   "cell_type": "markdown",
   "id": "035f8308",
   "metadata": {},
   "source": [
    "## PMF projected on reaction coords."
   ]
  },
  {
   "cell_type": "code",
   "execution_count": 27,
   "id": "20eb90ba",
   "metadata": {
    "ExecuteTime": {
     "end_time": "2023-02-21T12:29:46.995627Z",
     "start_time": "2023-02-21T12:29:46.955623Z"
    }
   },
   "outputs": [],
   "source": [
    "#Take out NaN values\n",
    "nanPMF=np.zeros(PMF.shape)\n",
    "nanmax=np.nanmax(PMF)\n",
    "for index,element in enumerate(PMF):\n",
    "    nanPMF[index]=element\n",
    "    if np.isnan(element):\n",
    "        nanPMF[index]=nanmax"
   ]
  },
  {
   "cell_type": "code",
   "execution_count": 28,
   "id": "e96924f7",
   "metadata": {
    "ExecuteTime": {
     "end_time": "2023-02-21T12:29:47.019629Z",
     "start_time": "2023-02-21T12:29:47.003628Z"
    }
   },
   "outputs": [
    {
     "data": {
      "text/plain": [
       "array([5.46209794, 3.84019633, 2.84339636, ..., 9.66241304, 8.50401639,\n",
       "       7.21586215])"
      ]
     },
     "execution_count": 28,
     "metadata": {},
     "output_type": "execute_result"
    }
   ],
   "source": [
    "nanPMF-np.min(nanPMF)"
   ]
  },
  {
   "cell_type": "code",
   "execution_count": 29,
   "id": "d996c3ab",
   "metadata": {
    "ExecuteTime": {
     "end_time": "2023-02-21T12:29:47.051635Z",
     "start_time": "2023-02-21T12:29:47.019629Z"
    }
   },
   "outputs": [],
   "source": [
    "dic={\"$\\psi$\":np.array([psi_PMF[index//l_PMF] for index in range(L_PMF)])*180/np.pi,\n",
    "    \"$\\phi$\":np.array([psi_PMF[index%l_PMF] for index in range(L_PMF)],)*180/np.pi,\n",
    "    \"Free Energy\": (nanPMF-np.min(nanPMF))}"
   ]
  },
  {
   "cell_type": "code",
   "execution_count": 30,
   "id": "2f9117fe",
   "metadata": {
    "ExecuteTime": {
     "end_time": "2023-02-21T12:29:47.083635Z",
     "start_time": "2023-02-21T12:29:47.051635Z"
    }
   },
   "outputs": [],
   "source": [
    "df_F=pd.DataFrame(dic)"
   ]
  },
  {
   "cell_type": "code",
   "execution_count": 31,
   "id": "4ec344fb",
   "metadata": {
    "ExecuteTime": {
     "end_time": "2023-02-21T12:29:54.398928Z",
     "start_time": "2023-02-21T12:29:47.083635Z"
    }
   },
   "outputs": [
    {
     "data": {
      "text/plain": [
       "<matplotlib.legend.Legend at 0x159819b5048>"
      ]
     },
     "execution_count": 31,
     "metadata": {},
     "output_type": "execute_result"
    },
    {
     "data": {
      "image/png": "[encoded data removed]",
      "text/plain": [
       "<Figure size 432x288 with 1 Axes>"
      ]
     },
     "metadata": {},
     "output_type": "display_data"
    }
   ],
   "source": [
    "fig, ax=plt.subplots(1,1)\n",
    "axis=sns.lineplot(data=df_F, x=\"$\\phi$\", y=\"Free Energy\", ax=ax, label=\"$\\phi$\")\n",
    "axis.set_ylabel(\"PMF (kJ/mol\")\n",
    "axis=sns.lineplot(data=df_F, x=\"$\\psi$\", y=\"Free Energy\", ax=ax, label=\"$\\psi$\")\n",
    "axis.set_ylabel(\"PMF (kJ/mol)\")\n",
    "axis.set_xlabel(\"Dihedral angle ($\\circ$)\")\n",
    "ax.legend()"
   ]
  },
  {
   "cell_type": "markdown",
   "id": "70e4ce07",
   "metadata": {},
   "source": [
    "## PMF on both reaction coords."
   ]
  },
  {
   "cell_type": "code",
   "execution_count": 32,
   "id": "d02c47ef",
   "metadata": {
    "ExecuteTime": {
     "end_time": "2023-02-21T12:29:54.414554Z",
     "start_time": "2023-02-21T12:29:54.398928Z"
    }
   },
   "outputs": [],
   "source": [
    "def fmt_F(x, pos):\n",
    "    a = '{:.1f}'.format(x)\n",
    "    return r'${}$'.format(a)"
   ]
  },
  {
   "cell_type": "code",
   "execution_count": 33,
   "id": "01b20395",
   "metadata": {
    "ExecuteTime": {
     "end_time": "2023-02-21T12:29:54.445808Z",
     "start_time": "2023-02-21T12:29:54.414554Z"
    }
   },
   "outputs": [],
   "source": [
    "free_energy_matrix=np.flipud(PMF.reshape((l_PMF, l_PMF)))"
   ]
  },
  {
   "cell_type": "code",
   "execution_count": 34,
   "id": "5d25f3dc",
   "metadata": {
    "ExecuteTime": {
     "end_time": "2023-02-21T12:29:54.492686Z",
     "start_time": "2023-02-21T12:29:54.445808Z"
    }
   },
   "outputs": [],
   "source": [
    "error_PMF=PMF_std/PMF*100"
   ]
  },
  {
   "cell_type": "code",
   "execution_count": 35,
   "id": "9ae30714",
   "metadata": {
    "ExecuteTime": {
     "end_time": "2023-02-21T12:29:55.221336Z",
     "start_time": "2023-02-21T12:29:54.492686Z"
    },
    "code_folding": []
   },
   "outputs": [
    {
     "data": {
      "image/png": "[encoded data removed]",
      "text/plain": [
       "<Figure size 720x360 with 4 Axes>"
      ]
     },
     "metadata": {},
     "output_type": "display_data"
    }
   ],
   "source": [
    "fig, axis = plt.subplots(1,2,figsize=(2*5, 5))\n",
    "im=axis[0].imshow(np.flipud(PMF.reshape((l_PMF, l_PMF))-np.min(nanPMF)), extent = (-180, 180, -180, 180),\n",
    "           cmap=\"jet\")\n",
    "axis[0].set_xlabel(r\"$\\phi$\")\n",
    "axis[0].set_ylabel(r\"$\\psi$\")\n",
    "cbar_F=plt.colorbar(im, format=mpl.ticker.FuncFormatter(fmt_F),\n",
    "            ax=axis[0])\n",
    "cbar_F.set_label(\"PMF (kJ/mol)\")\n",
    "\n",
    "im=axis[1].imshow(np.flipud(PMF_std.reshape((l_PMF, l_PMF))), extent = (-180, 180, -180, 180),\n",
    "           cmap=\"jet\")\n",
    "axis[1].set_xlabel(r\"$\\phi$\")\n",
    "axis[1].set_ylabel(r\"$\\psi$\")\n",
    "cbar_F=plt.colorbar(im, format=mpl.ticker.FuncFormatter(fmt_F),\n",
    "            ax=axis[1])\n",
    "cbar_F.set_label(\"PMF error (kJ/mol)\")\n",
    "\n",
    "\n",
    "\n",
    "\n",
    "\n",
    "\n",
    "\n",
    "axis[0].text(-150, 150, s=r\"1\", color=\"red\")\n",
    "axis[0].text(-70, 140, s=r\"2\", color=\"red\")\n",
    "axis[0].text(-150, -55, s=r\"3\", color=\"red\")\n",
    "axis[0].text(-60, -50, s=r\"4\", color=\"red\")\n",
    "\n",
    "axis[0].text(40, 60, s=r\"5\", color=\"red\")\n",
    "axis[0].text(40, -115, s=r\"6\", color=\"red\")\n",
    "\n",
    "for ax in axis:\n",
    "    ax.xaxis.set_major_locator(mpl.ticker.MultipleLocator(60))\n",
    "    ax.yaxis.set_major_locator(mpl.ticker.MultipleLocator(60))\n",
    "\n",
    "plt.show()\n",
    "\n",
    "\n",
    "fig.tight_layout()\n",
    "\n"
   ]
  },
  {
   "cell_type": "code",
   "execution_count": 36,
   "id": "a5dfa56b",
   "metadata": {
    "ExecuteTime": {
     "end_time": "2023-02-21T12:29:55.237248Z",
     "start_time": "2023-02-21T12:29:55.221336Z"
    }
   },
   "outputs": [],
   "source": [
    "np.save('results/final-psi-US.npy',valpsi)"
   ]
  },
  {
   "cell_type": "markdown",
   "id": "2b71af00",
   "metadata": {},
   "source": [
    "## Biased sample"
   ]
  },
  {
   "cell_type": "code",
   "execution_count": 37,
   "id": "793c49dd",
   "metadata": {
    "ExecuteTime": {
     "end_time": "2023-02-21T12:29:55.284127Z",
     "start_time": "2023-02-21T12:29:55.237248Z"
    }
   },
   "outputs": [],
   "source": [
    "dic={'$\\phi$': np.array([valphi[i] for i in range(len(valphi[:200*18*18]))])*(180/np.pi),\n",
    "     '$\\psi$': np.array([valpsi[i] for i in range(len(valphi[:200*18*18]))])*(180/np.pi),\n",
    "    'sample': [i//(200*18) for i in range(len(valphi[:200*18*18]))]}"
   ]
  },
  {
   "cell_type": "code",
   "execution_count": 39,
   "id": "2c8a1b0c",
   "metadata": {
    "ExecuteTime": {
     "end_time": "2023-02-21T12:40:33.051608Z",
     "start_time": "2023-02-21T12:40:33.029597Z"
    }
   },
   "outputs": [],
   "source": [
    "df=pd.DataFrame(dic)"
   ]
  },
  {
   "cell_type": "code",
   "execution_count": 40,
   "id": "e1538e83",
   "metadata": {
    "ExecuteTime": {
     "end_time": "2023-02-21T12:40:33.989443Z",
     "start_time": "2023-02-21T12:40:33.483190Z"
    }
   },
   "outputs": [
    {
     "data": {
      "text/plain": [
       "<Figure size 648x648 with 0 Axes>"
      ]
     },
     "execution_count": 40,
     "metadata": {},
     "output_type": "execute_result"
    },
    {
     "data": {
      "image/png": "[encoded data removed]",
      "text/plain": [
       "<Figure size 432x432 with 3 Axes>"
      ]
     },
     "metadata": {},
     "output_type": "display_data"
    },
    {
     "data": {
      "text/plain": [
       "<Figure size 648x648 with 0 Axes>"
      ]
     },
     "metadata": {},
     "output_type": "display_data"
    }
   ],
   "source": [
    "from matplotlib import ticker\n",
    "cmap=mpl.colors.Colormap(\"jet\")\n",
    "ax=sns.jointplot(data=df,\n",
    "              x=\"$\\phi$\", y=\"$\\psi$\",\n",
    "              kind=\"hist\", cmap=\"viridis\", cbar=False, bins=100\n",
    "                )\n",
    "ax.ax_joint.xaxis.set_major_locator(ticker.MultipleLocator(45))\n",
    "ax.ax_joint.yaxis.set_major_locator(ticker.MultipleLocator(45))\n",
    "plt.figure(figsize=(9,9))"
   ]
  },
  {
   "cell_type": "markdown",
   "id": "4af8af59",
   "metadata": {},
   "source": [
    "### Time and Energy conservation"
   ]
  },
  {
   "cell_type": "code",
   "execution_count": 41,
   "id": "1e188cea",
   "metadata": {
    "ExecuteTime": {
     "end_time": "2023-02-21T12:40:34.506699Z",
     "start_time": "2023-02-21T12:40:34.496686Z"
    }
   },
   "outputs": [],
   "source": [
    "#We make a function to see the mean and avarage\n",
    "def plot_mean_std(axis,X, array, color=\"blue\", alpha=0.75, **kwargs):\n",
    "    base=np.zeros(len(array));\n",
    "    mean=base*0+np.mean(array);std=base*0+np.std(array)\n",
    "    axis.plot(X,mean, color=color, alpha=alpha, **kwargs)\n",
    "    axis.fill_between(X, mean-std, mean+std,\n",
    "                   color=color, alpha=alpha*0.25, zorder=10)"
   ]
  },
  {
   "cell_type": "code",
   "execution_count": 42,
   "id": "fac47fde",
   "metadata": {
    "ExecuteTime": {
     "end_time": "2023-02-21T12:40:34.939107Z",
     "start_time": "2023-02-21T12:40:34.901270Z"
    },
    "scrolled": true
   },
   "outputs": [
    {
     "data": {
      "text/html": [
       "<div>\n",
       "<style scoped>\n",
       "    .dataframe tbody tr th:only-of-type {\n",
       "        vertical-align: middle;\n",
       "    }\n",
       "\n",
       "    .dataframe tbody tr th {\n",
       "        vertical-align: top;\n",
       "    }\n",
       "\n",
       "    .dataframe thead th {\n",
       "        text-align: right;\n",
       "    }\n",
       "</style>\n",
       "<table border=\"1\" class=\"dataframe\">\n",
       "  <thead>\n",
       "    <tr style=\"text-align: right;\">\n",
       "      <th></th>\n",
       "      <th>#\"Time (ps)\"</th>\n",
       "      <th>Potential Energy (kJ/mole)</th>\n",
       "      <th>Total Energy (kJ/mole)</th>\n",
       "      <th>Temperature (K)</th>\n",
       "      <th>Speed (ns/day)</th>\n",
       "      <th>Elapsed Time (s)</th>\n",
       "    </tr>\n",
       "  </thead>\n",
       "  <tbody>\n",
       "    <tr>\n",
       "      <th>0</th>\n",
       "      <td>2.000000</td>\n",
       "      <td>-31683.565331</td>\n",
       "      <td>-26643.911698</td>\n",
       "      <td>266.724001</td>\n",
       "      <td>--</td>\n",
       "      <td>0.000983</td>\n",
       "    </tr>\n",
       "    <tr>\n",
       "      <th>1</th>\n",
       "      <td>4.000000</td>\n",
       "      <td>-30681.324462</td>\n",
       "      <td>-25275.159263</td>\n",
       "      <td>286.121650</td>\n",
       "      <td>31.3</td>\n",
       "      <td>5.524366</td>\n",
       "    </tr>\n",
       "    <tr>\n",
       "      <th>2</th>\n",
       "      <td>6.000000</td>\n",
       "      <td>-30177.051967</td>\n",
       "      <td>-24783.234233</td>\n",
       "      <td>285.468160</td>\n",
       "      <td>31.2</td>\n",
       "      <td>11.083462</td>\n",
       "    </tr>\n",
       "    <tr>\n",
       "      <th>3</th>\n",
       "      <td>8.000000</td>\n",
       "      <td>-30091.312473</td>\n",
       "      <td>-24506.107501</td>\n",
       "      <td>295.597342</td>\n",
       "      <td>31.1</td>\n",
       "      <td>16.668559</td>\n",
       "    </tr>\n",
       "    <tr>\n",
       "      <th>4</th>\n",
       "      <td>10.000000</td>\n",
       "      <td>-30066.447941</td>\n",
       "      <td>-24559.336405</td>\n",
       "      <td>291.464242</td>\n",
       "      <td>30.9</td>\n",
       "      <td>22.378730</td>\n",
       "    </tr>\n",
       "    <tr>\n",
       "      <th>...</th>\n",
       "      <td>...</td>\n",
       "      <td>...</td>\n",
       "      <td>...</td>\n",
       "      <td>...</td>\n",
       "      <td>...</td>\n",
       "      <td>...</td>\n",
       "    </tr>\n",
       "    <tr>\n",
       "      <th>6799</th>\n",
       "      <td>13600.000002</td>\n",
       "      <td>-29952.234031</td>\n",
       "      <td>-24167.232089</td>\n",
       "      <td>306.171610</td>\n",
       "      <td>26.2</td>\n",
       "      <td>44767.636103</td>\n",
       "    </tr>\n",
       "    <tr>\n",
       "      <th>6800</th>\n",
       "      <td>13602.000002</td>\n",
       "      <td>-30026.210213</td>\n",
       "      <td>-24351.263999</td>\n",
       "      <td>300.346903</td>\n",
       "      <td>26.2</td>\n",
       "      <td>44773.497839</td>\n",
       "    </tr>\n",
       "    <tr>\n",
       "      <th>6801</th>\n",
       "      <td>13604.000002</td>\n",
       "      <td>-29932.751065</td>\n",
       "      <td>-24123.512753</td>\n",
       "      <td>307.454321</td>\n",
       "      <td>26.2</td>\n",
       "      <td>44779.400543</td>\n",
       "    </tr>\n",
       "    <tr>\n",
       "      <th>6802</th>\n",
       "      <td>13606.000002</td>\n",
       "      <td>-29978.032687</td>\n",
       "      <td>-24339.232029</td>\n",
       "      <td>298.433897</td>\n",
       "      <td>26.2</td>\n",
       "      <td>44785.791721</td>\n",
       "    </tr>\n",
       "    <tr>\n",
       "      <th>6803</th>\n",
       "      <td>13608.000002</td>\n",
       "      <td>-30175.054962</td>\n",
       "      <td>-24469.413868</td>\n",
       "      <td>301.971432</td>\n",
       "      <td>26.2</td>\n",
       "      <td>44791.776473</td>\n",
       "    </tr>\n",
       "  </tbody>\n",
       "</table>\n",
       "<p>6804 rows × 6 columns</p>\n",
       "</div>"
      ],
      "text/plain": [
       "      #\"Time (ps)\"  Potential Energy (kJ/mole)  Total Energy (kJ/mole)  \\\n",
       "0         2.000000               -31683.565331           -26643.911698   \n",
       "1         4.000000               -30681.324462           -25275.159263   \n",
       "2         6.000000               -30177.051967           -24783.234233   \n",
       "3         8.000000               -30091.312473           -24506.107501   \n",
       "4        10.000000               -30066.447941           -24559.336405   \n",
       "...            ...                         ...                     ...   \n",
       "6799  13600.000002               -29952.234031           -24167.232089   \n",
       "6800  13602.000002               -30026.210213           -24351.263999   \n",
       "6801  13604.000002               -29932.751065           -24123.512753   \n",
       "6802  13606.000002               -29978.032687           -24339.232029   \n",
       "6803  13608.000002               -30175.054962           -24469.413868   \n",
       "\n",
       "      Temperature (K) Speed (ns/day)  Elapsed Time (s)  \n",
       "0          266.724001             --          0.000983  \n",
       "1          286.121650           31.3          5.524366  \n",
       "2          285.468160           31.2         11.083462  \n",
       "3          295.597342           31.1         16.668559  \n",
       "4          291.464242           30.9         22.378730  \n",
       "...               ...            ...               ...  \n",
       "6799       306.171610           26.2      44767.636103  \n",
       "6800       300.346903           26.2      44773.497839  \n",
       "6801       307.454321           26.2      44779.400543  \n",
       "6802       298.433897           26.2      44785.791721  \n",
       "6803       301.971432           26.2      44791.776473  \n",
       "\n",
       "[6804 rows x 6 columns]"
      ]
     },
     "execution_count": 42,
     "metadata": {},
     "output_type": "execute_result"
    }
   ],
   "source": [
    "data_scalars=pd.read_csv(directory+\"alad-015M-15A-scalars-NOCHARMM-US-3.csv\")\n",
    "data_scalars"
   ]
  },
  {
   "cell_type": "code",
   "execution_count": 43,
   "id": "64c82e5d",
   "metadata": {
    "ExecuteTime": {
     "end_time": "2023-02-21T12:40:35.251562Z",
     "start_time": "2023-02-21T12:40:35.168344Z"
    }
   },
   "outputs": [],
   "source": [
    "#Getting equilibration umbrella jumps out of the plot\n",
    "t=data_scalars['#\"Time (ps)\"']; T=data_scalars['Temperature (K)']; E=data_scalars['Total Energy (kJ/mole)']\n",
    "\n",
    "new_t=[]; new_E=[]; new_T=[];\n",
    "\n",
    "for index,temps in enumerate(t):\n",
    "    if index%21!=0:\n",
    "        new_T.append(T[index]);\n",
    "        new_E.append(E[index]);\n",
    "        new_t.append(t[index])"
   ]
  },
  {
   "cell_type": "code",
   "execution_count": 44,
   "id": "1805be2e",
   "metadata": {
    "ExecuteTime": {
     "end_time": "2023-02-21T12:40:36.488730Z",
     "start_time": "2023-02-21T12:40:36.017720Z"
    },
    "scrolled": false
   },
   "outputs": [
    {
     "data": {
      "text/plain": [
       "<matplotlib.legend.Legend at 0x159835ba160>"
      ]
     },
     "execution_count": 44,
     "metadata": {},
     "output_type": "execute_result"
    },
    {
     "data": {
      "image/png": "[encoded data removed]",
      "text/plain": [
       "<Figure size 1008x360 with 2 Axes>"
      ]
     },
     "metadata": {},
     "output_type": "display_data"
    }
   ],
   "source": [
    "fig, axis=plt.subplots(1,2,figsize=(2*7,5))\n",
    "axis[0].plot(new_t,new_T,color=\"orange\", zorder=1)\n",
    "plot_mean_std(axis[0],new_t, new_T, color=\"red\", alpha=1,\n",
    "             label=f\"$\\mu=({np.mean(T):.2f}\\pm{np.std(T):.2f})$ K\",\n",
    "             linestyle=\"--\", zorder=10)\n",
    "axis[1].plot(new_t,new_E,color=\"green\", zorder=1)\n",
    "plot_mean_std(axis[1],new_t, new_E, color=\"lime\", alpha=0.75,\n",
    "             label=f\"$\\mu=({np.mean(E):.2f}\\pm{np.std(E):.2f})$ kJ/mol\",\n",
    "             linestyle=\"--\")\n",
    "axis[1].set_xlabel(\"Time (ps)\"); axis[0].set_ylabel(\"Temperature (K)\")\n",
    "axis[0].set_xlabel(\"Time (ps)\"); axis[1].set_ylabel(\"Total Energy (kJ/mol)\")\n",
    "axis[1].legend(); axis[0].legend()"
   ]
  }
 ],
 "metadata": {
  "kernelspec": {
   "display_name": "Python 3",
   "language": "python",
   "name": "python3"
  },
  "language_info": {
   "codemirror_mode": {
    "name": "ipython",
    "version": 3
   },
   "file_extension": ".py",
   "mimetype": "text/x-python",
   "name": "python",
   "nbconvert_exporter": "python",
   "pygments_lexer": "ipython3",
   "version": "3.6.15"
  },
  "latex_envs": {
   "LaTeX_envs_menu_present": true,
   "autoclose": false,
   "autocomplete": true,
   "bibliofile": "biblio.bib",
   "cite_by": "apalike",
   "current_citInitial": 1,
   "eqLabelWithNumbers": true,
   "eqNumInitial": 1,
   "hotkeys": {
    "equation": "Ctrl-E",
    "itemize": "Ctrl-I"
   },
   "labels_anchors": false,
   "latex_user_defs": false,
   "report_style_numbering": false,
   "user_envs_cfg": false
  }
 },
 "nbformat": 4,
 "nbformat_minor": 5
}
