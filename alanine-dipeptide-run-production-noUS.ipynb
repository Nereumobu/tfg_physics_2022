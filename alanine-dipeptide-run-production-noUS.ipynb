{
 "cells": [
  {
   "cell_type": "code",
   "execution_count": 2,
   "id": "26d25353",
   "metadata": {
    "ExecuteTime": {
     "end_time": "2023-01-08T09:56:59.324052Z",
     "start_time": "2023-01-08T09:56:59.308005Z"
    }
   },
   "outputs": [],
   "source": [
    "import numpy as np\n",
    "import simtk.openmm as mm\n",
    "import simtk.openmm.app as app\n",
    "from simtk.openmm import unit\n",
    "from simtk.openmm.openmm import NonbondedForce\n",
    "import os\n",
    "import matplotlib.pyplot as plt\n",
    "from openmmtools.testsystems import AlanineDipeptideExplicit\n",
    "import sys\n",
    "import matplotlib.ticker as ticker"
   ]
  },
  {
   "cell_type": "code",
   "execution_count": 3,
   "id": "138fcebf",
   "metadata": {
    "ExecuteTime": {
     "end_time": "2023-01-08T09:57:00.055344Z",
     "start_time": "2023-01-08T09:57:00.048343Z"
    }
   },
   "outputs": [],
   "source": [
    "def percentageString(progress, total, divisions):\n",
    "    length=total/divisions\n",
    "    stage=int(progress//length)\n",
    "    token=\">\"\n",
    "    if progress==total:\n",
    "        token=\"X\"\n",
    "    return \"[\"+\"=\"*stage+token+\" \"*(divisions-stage)+\"]\""
   ]
  },
  {
   "cell_type": "code",
   "execution_count": 4,
   "id": "31135bb7",
   "metadata": {
    "ExecuteTime": {
     "end_time": "2023-01-08T09:57:56.612916Z",
     "start_time": "2023-01-08T09:57:56.603921Z"
    }
   },
   "outputs": [
    {
     "name": "stdout",
     "output_type": "stream",
     "text": [
      "done\n"
     ]
    }
   ],
   "source": [
    "name=\"alad-015M-15A\"\n",
    "run=\"NOCHARMM-noUS\"#no umbrella sampling \n",
    "fetchrun=\"NOCHARMM-NPT\"\n",
    "fetchdir=f\"results/alad-015M-15A-run-{fetchrun}/\"\n",
    "resultsdir=\"results/\"+\"{}-run-{}\".format(name,run)\n",
    "if not os.path.exists(resultsdir):\n",
    "    os.mkdir(resultsdir)\n",
    "    print(\"done\")"
   ]
  },
  {
   "cell_type": "code",
   "execution_count": 5,
   "id": "83b8469a",
   "metadata": {
    "ExecuteTime": {
     "end_time": "2023-01-08T09:58:05.463372Z",
     "start_time": "2023-01-08T09:58:05.457359Z"
    }
   },
   "outputs": [],
   "source": [
    "a,b,c = np.loadtxt(\"{}\".format(fetchdir)+'NPT-box-lengths_{}.txt'.format(name))"
   ]
  },
  {
   "cell_type": "code",
   "execution_count": 6,
   "id": "fc945c76",
   "metadata": {
    "ExecuteTime": {
     "end_time": "2023-01-08T09:58:13.977207Z",
     "start_time": "2023-01-08T09:58:13.888167Z"
    }
   },
   "outputs": [],
   "source": [
    "pdb = app.PDBFile(fetchdir+\"equilibrated-NPT_{}.pdb\".format(name))"
   ]
  },
  {
   "cell_type": "code",
   "execution_count": 7,
   "id": "439570ee",
   "metadata": {
    "ExecuteTime": {
     "end_time": "2023-01-08T09:58:14.785657Z",
     "start_time": "2023-01-08T09:58:14.768636Z"
    }
   },
   "outputs": [],
   "source": [
    "#System Parameters\n",
    "constraints = app.HBonds\n",
    "nonbonded_cutoff = 1.0*unit.nanometer\n",
    "switch_distance = 0.8*unit.nanometer\n",
    "nonbonded_method = app.PME\n",
    "implicit_solvent = False\n",
    "solvated = True\n",
    "hydrogen_mass = None"
   ]
  },
  {
   "cell_type": "code",
   "execution_count": 8,
   "id": "92cd4699",
   "metadata": {
    "ExecuteTime": {
     "end_time": "2023-01-08T09:58:16.417374Z",
     "start_time": "2023-01-08T09:58:16.402358Z"
    }
   },
   "outputs": [],
   "source": [
    "#Simulation parameters\n",
    "friction = 1.0 / unit.picoseconds\n",
    "pressure = 1.0 * unit.atmosphere\n",
    "temperature = 298*unit.kelvin\n",
    "timestep = 2.0 * unit.femtosecond"
   ]
  },
  {
   "cell_type": "code",
   "execution_count": 9,
   "id": "0122354a",
   "metadata": {
    "ExecuteTime": {
     "end_time": "2023-01-08T09:58:17.241908Z",
     "start_time": "2023-01-08T09:58:17.237118Z"
    }
   },
   "outputs": [],
   "source": [
    "create_system_kwargs = dict(\n",
    "    removeCMMotion=True,\n",
    "    nonbondedMethod=nonbonded_method,\n",
    "    nonbondedCutoff=nonbonded_cutoff,\n",
    "    switchDistance=switch_distance,\n",
    "    constraints=constraints,\n",
    "    hydrogenMass=hydrogen_mass,\n",
    "    rigidWater=True,\n",
    ")"
   ]
  },
  {
   "cell_type": "code",
   "execution_count": 10,
   "id": "959e2e3c",
   "metadata": {
    "ExecuteTime": {
     "end_time": "2023-01-08T09:58:20.508576Z",
     "start_time": "2023-01-08T09:58:20.358722Z"
    }
   },
   "outputs": [],
   "source": [
    "alanine=AlanineDipeptideExplicit(**create_system_kwargs)"
   ]
  },
  {
   "cell_type": "code",
   "execution_count": 21,
   "id": "b7dab771",
   "metadata": {
    "ExecuteTime": {
     "end_time": "2023-01-08T10:02:25.069155Z",
     "start_time": "2023-01-08T10:02:25.059154Z"
    }
   },
   "outputs": [],
   "source": [
    "alanine.system.setDefaultPeriodicBoxVectors(\n",
    "    mm.Vec3(a,0,0),\n",
    "    mm.Vec3(0,b,0),\n",
    "    mm.Vec3(0,0,c)\n",
    ")"
   ]
  },
  {
   "cell_type": "code",
   "execution_count": 22,
   "id": "01518365",
   "metadata": {
    "ExecuteTime": {
     "end_time": "2023-01-08T10:02:25.751394Z",
     "start_time": "2023-01-08T10:02:25.742315Z"
    }
   },
   "outputs": [],
   "source": [
    "#Set up simulation\n",
    "system = alanine.system\n",
    "\n",
    "positions = pdb.getPositions()\n",
    "topology = alanine.topology\n",
    "\n",
    "integrator = mm.LangevinIntegrator(temperature , friction , timestep)\n",
    "integrator.setConstraintTolerance(1e-7)\n",
    "\n",
    "platform = mm.Platform.getPlatformByName(\"OpenCL\")\n",
    "platform_properties = {\"DeviceIndex\": \"0\", \"Precision\": \"mixed\"}"
   ]
  },
  {
   "cell_type": "code",
   "execution_count": 23,
   "id": "c62efd4a",
   "metadata": {
    "ExecuteTime": {
     "end_time": "2023-01-08T10:02:29.797730Z",
     "start_time": "2023-01-08T10:02:27.816519Z"
    }
   },
   "outputs": [],
   "source": [
    "simulation = mm.app.Simulation(topology, system, integrator, platform, platform_properties)\n",
    "simulation.context.setPositions(positions)\n",
    "simulation.context.setVelocitiesToTemperature(temperature)"
   ]
  },
  {
   "cell_type": "code",
   "execution_count": 24,
   "id": "43105c88",
   "metadata": {
    "ExecuteTime": {
     "end_time": "2023-01-08T10:02:35.295506Z",
     "start_time": "2023-01-08T10:02:33.655466Z"
    }
   },
   "outputs": [
    {
     "data": {
      "text/plain": [
       "[<matplotlib.lines.Line2D at 0x232065b9240>]"
      ]
     },
     "execution_count": 24,
     "metadata": {},
     "output_type": "execute_result"
    },
    {
     "data": {
      "image/png": "[encoded data removed]",
      "text/plain": [
       "<Figure size 432x288 with 1 Axes>"
      ]
     },
     "metadata": {
      "needs_background": "light"
     },
     "output_type": "display_data"
    }
   ],
   "source": [
    "#Check for any unusal forces\n",
    "orces=simulation.context.getState(getForces=True).getForces(asNumpy=True)\n",
    "forces_total=np.sqrt(forces[:,0]**2+forces[:,1]**2+forces[:,2]**2)\n",
    "n=np.arange(len(forces_total))\n",
    "plt.plot(n,forces_total)"
   ]
  },
  {
   "cell_type": "code",
   "execution_count": 25,
   "id": "a03ec01e",
   "metadata": {
    "ExecuteTime": {
     "end_time": "2023-01-08T10:02:50.763289Z",
     "start_time": "2023-01-08T10:02:42.068775Z"
    },
    "scrolled": false
   },
   "outputs": [],
   "source": [
    "## To run in NPT ensemble\n",
    "# barostat = mm.MonteCarloBarostat(pressure, temperature)\n",
    "# force_id = simulation.context.getSystem().addForce(barostat)\n",
    "\n",
    "\n",
    "simulation.minimizeEnergy()\n",
    "simulation.reporters.append(app.DCDReporter('{}/{}-run-{}.dcd'.format(resultsdir, name, run), 5000))\n",
    "simulation.reporters.append(app.StateDataReporter('{}/{}-scalars-{}.csv'.format(resultsdir, name, run), \n",
    "    1000, time=True, potentialEnergy=True, totalEnergy=True,\n",
    "    temperature=True, speed=True, elapsedTime=True))"
   ]
  },
  {
   "cell_type": "code",
   "execution_count": 26,
   "id": "848e1737",
   "metadata": {
    "ExecuteTime": {
     "end_time": "2023-01-08T10:02:50.779308Z",
     "start_time": "2023-01-08T10:02:50.763289Z"
    }
   },
   "outputs": [
    {
     "name": "stdout",
     "output_type": "stream",
     "text": [
      "ACE\n",
      "ALA\n",
      "NME\n"
     ]
    }
   ],
   "source": [
    "# How frequently to save\n",
    "step_size = 100\n",
    "# How many steps that are saved\n",
    "n_steps = 50\n",
    "# How many times to save\n",
    "loops = 1000\n",
    "atom_list = []\n",
    "for residue in topology.residues():\n",
    "    if residue.name != 'HOH':\n",
    "        print(residue.name)\n",
    "        for atom in residue.atoms():\n",
    "            atom_list.append(atom.index)"
   ]
  },
  {
   "cell_type": "code",
   "execution_count": 27,
   "id": "b8376e2f",
   "metadata": {
    "ExecuteTime": {
     "end_time": "2023-01-08T10:02:50.794946Z",
     "start_time": "2023-01-08T10:02:50.779308Z"
    }
   },
   "outputs": [
    {
     "name": "stdout",
     "output_type": "stream",
     "text": [
      "Simulation time: 10.000000000000002 ns\n"
     ]
    }
   ],
   "source": [
    "print(f\"Simulation time: {timestep.in_units_of(unit.nanosecond)*step_size*n_steps*loops}\")"
   ]
  },
  {
   "cell_type": "code",
   "execution_count": 28,
   "id": "d439c5e3",
   "metadata": {
    "ExecuteTime": {
     "end_time": "2023-01-08T10:02:50.810587Z",
     "start_time": "2023-01-08T10:02:50.794946Z"
    }
   },
   "outputs": [],
   "source": [
    "last_chk=0"
   ]
  },
  {
   "cell_type": "code",
   "execution_count": 29,
   "id": "10d1b196",
   "metadata": {
    "ExecuteTime": {
     "end_time": "2023-01-08T17:58:38.371459Z",
     "start_time": "2023-01-08T10:02:53.867580Z"
    },
    "code_folding": []
   },
   "outputs": [
    {
     "name": "stdout",
     "output_type": "stream",
     "text": [
      "Simulating: 99.998000%  [=================================================X ]"
     ]
    }
   ],
   "source": [
    "for loop in range(last_chk,loops):\n",
    "    forces_list = []\n",
    "    position_list = []\n",
    "    energies = []\n",
    "    for ix in range(n_steps):\n",
    "        forces_list.append([])\n",
    "        position_list.append([])\n",
    "        forces = simulation.context.getState(getForces=True).getForces(asNumpy=True)[atom_list]\n",
    "        forces = forces.value_in_unit(unit.kilocalorie_per_mole/unit.angstrom)\n",
    "        position = simulation.context.getState(getPositions=True,enforcePeriodicBox=True).getPositions(asNumpy=True)[atom_list]\n",
    "        position = position.value_in_unit(unit.angstrom)\n",
    "        energy = simulation.context.getState(getEnergy=True).getPotentialEnergy()\n",
    "        energy = energy.value_in_unit(unit.kilocalorie_per_mole)\n",
    "\n",
    "        forces_list[-1].append(forces)\n",
    "        position_list[-1].append(position)\n",
    "        energies.append(energy)\n",
    "        simulation.step(step_size)\n",
    "        percentageBar=percentageString((ix+(loop*n_steps)),(n_steps*loops-1),50)\n",
    "        print(\"\\rSimulating: {:.06f}%  {}\".format((ix+(loop*n_steps))/(n_steps*loops)*100,percentageBar), end=\"\")\n",
    "\n",
    "    with open('{}/{}-{}-checkpoint.chk'.format(resultsdir,name, loop), 'wb') as f:\n",
    "        f.write(simulation.context.createCheckpoint())\n",
    "\n",
    "    forces = np.concatenate(forces_list,axis=0)\n",
    "    positions = np.concatenate(position_list,axis=0)\n",
    "    np.save('{}/{}-{}-forces.npy'.format(resultsdir,name, loop),forces)\n",
    "    np.save('{}/{}-{}-coords.npy'.format(resultsdir,name, loop),positions)\n",
    "    np.save('{}/{}-{}-energy.npy'.format(resultsdir,name, loop),energies)\n",
    "\n"
   ]
  },
  {
   "cell_type": "code",
   "execution_count": 30,
   "id": "9f9fd960",
   "metadata": {
    "ExecuteTime": {
     "end_time": "2023-01-08T17:58:38.434262Z",
     "start_time": "2023-01-08T17:58:38.373482Z"
    },
    "code_folding": []
   },
   "outputs": [],
   "source": [
    "#Saving the files\n",
    "crd = simulation.context.getState(getPositions=True, enforcePeriodicBox=True).getPositions()\n",
    "pdb.writeFile(topology, crd, open(resultsdir+'/{}-run-{}.pdb'.format(name,run), 'w'))\n"
   ]
  },
  {
   "cell_type": "code",
   "execution_count": 13,
   "id": "ecdfb6f3",
   "metadata": {
    "ExecuteTime": {
     "end_time": "2023-01-07T20:46:26.184394Z",
     "start_time": "2023-01-07T20:46:26.173388Z"
    }
   },
   "outputs": [],
   "source": [
    "#Load checkpoints in case of premature program termination\n",
    "with open('{}/{}-{}-checkpoint.chk'.format(resultsdir,name, last_chk), 'rb') as f:\n",
    "        simulation.context.loadCheckpoint(f.read())"
   ]
  }
 ],
 "metadata": {
  "kernelspec": {
   "display_name": "Python 3",
   "language": "python",
   "name": "python3"
  },
  "language_info": {
   "codemirror_mode": {
    "name": "ipython",
    "version": 3
   },
   "file_extension": ".py",
   "mimetype": "text/x-python",
   "name": "python",
   "nbconvert_exporter": "python",
   "pygments_lexer": "ipython3",
   "version": "3.6.15"
  },
  "latex_envs": {
   "LaTeX_envs_menu_present": true,
   "autoclose": false,
   "autocomplete": true,
   "bibliofile": "biblio.bib",
   "cite_by": "apalike",
   "current_citInitial": 1,
   "eqLabelWithNumbers": true,
   "eqNumInitial": 1,
   "hotkeys": {
    "equation": "Ctrl-E",
    "itemize": "Ctrl-I"
   },
   "labels_anchors": false,
   "latex_user_defs": false,
   "report_style_numbering": false,
   "user_envs_cfg": false
  }
 },
 "nbformat": 4,
 "nbformat_minor": 5
}
