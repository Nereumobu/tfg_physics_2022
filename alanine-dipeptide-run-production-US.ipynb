{
 "cells": [
  {
   "cell_type": "markdown",
   "id": "ed534064",
   "metadata": {},
   "source": [
    "## Relevant imports"
   ]
  },
  {
   "cell_type": "code",
   "execution_count": 51,
   "id": "26d25353",
   "metadata": {
    "ExecuteTime": {
     "end_time": "2023-01-10T11:32:01.352994Z",
     "start_time": "2023-01-10T11:32:01.334576Z"
    }
   },
   "outputs": [],
   "source": [
    "import numpy as np\n",
    "import simtk.openmm as mm\n",
    "import simtk.openmm.app as app\n",
    "from simtk.openmm import unit\n",
    "from simtk.openmm.openmm import NonbondedForce\n",
    "import os\n",
    "import matplotlib.pyplot as plt\n",
    "from openmmtools.testsystems import AlanineDipeptideExplicit\n",
    "import sys\n",
    "import mdtraj as md"
   ]
  },
  {
   "cell_type": "markdown",
   "id": "251dcf58",
   "metadata": {},
   "source": [
    "## Relevant functions"
   ]
  },
  {
   "cell_type": "markdown",
   "id": "606581ed",
   "metadata": {},
   "source": [
    "### Stetic functions"
   ]
  },
  {
   "cell_type": "code",
   "execution_count": 52,
   "id": "138fcebf",
   "metadata": {
    "ExecuteTime": {
     "end_time": "2023-01-10T11:32:01.400987Z",
     "start_time": "2023-01-10T11:32:01.395987Z"
    },
    "code_folding": []
   },
   "outputs": [],
   "source": [
    "def percentageString(progress, total, divisions):\n",
    "    length=total/divisions\n",
    "    stage=int(progress//length)\n",
    "    token=\">\"\n",
    "    if progress==total:\n",
    "        token=\"X\"\n",
    "    return \"[\"+\"=\"*stage+token+\" \"*(divisions-stage)+\"]\""
   ]
  },
  {
   "cell_type": "markdown",
   "id": "f2b6819d",
   "metadata": {},
   "source": [
    "### Functions to represent topology"
   ]
  },
  {
   "cell_type": "code",
   "execution_count": 53,
   "id": "2e4d08eb",
   "metadata": {
    "ExecuteTime": {
     "end_time": "2023-01-10T11:32:01.449011Z",
     "start_time": "2023-01-10T11:32:01.429006Z"
    },
    "code_folding": []
   },
   "outputs": [],
   "source": [
    "def deleteElements(l, indexList):\n",
    "    #Deletes all the indexed elements in :indexList: of the list :l:\n",
    "    indexList.sort()\n",
    "    count=0\n",
    "    for index in indexList:\n",
    "        l.pop(index-count)\n",
    "        count+=1\n",
    "    return\n",
    "def checkBondString(bond, string):\n",
    "    #Boolean funciton that checks wether an atom with that name is in the bond\n",
    "    return (bond[0].name==string or bond[1].name==string)\n",
    "def checkBondAtom(bond, atom):\n",
    "    #Boolean function that checks wether that particular atom is in the bond\n",
    "    return (bond[0]==atom or bond[1]==atom)\n",
    "def getAtomBond(bond, string):\n",
    "    #Function that returns the atom with the name :string: if it is in :bond:\n",
    "    #If not it returns an error\n",
    "    #:bond: must be a two atom bond\n",
    "    #:string: is the name of the atom\n",
    "    if checkBondString(bond, string):\n",
    "        if bond[0].name==string:\n",
    "            return bond[0]\n",
    "        else:\n",
    "            return bond[1]\n",
    "    print(f'\\nERROR getAtomBond({bond}, {string}) there is no {string} in this bond!')\n",
    "    return None\n",
    "def getOtherAtom(bond, atom):\n",
    "    #Function that gets the other atom in a bond pair\n",
    "    if checkBondAtom(bond, atom):\n",
    "        if bond[0]==atom:\n",
    "            return bond[1]\n",
    "        else:\n",
    "            return bond[0]\n",
    "    else:\n",
    "        print(f'\\nERROR getAtomBond({bond}, {string}) there is no {string} in this bond!')\n",
    "        return None\n",
    "def findNextBond(pbonds, atom):\n",
    "    #This function assumes that there is only one next bond per atom\n",
    "    prunelist=[]           #list of bonds that will be pruned  \n",
    "    possibleBonds=['CA', 'N', 'C', 'CH'] #List of possible nextbonds\n",
    "    nextAtom=atom\n",
    "    index=0\n",
    "    for bond in pbonds:\n",
    "        #We want to check the bonds with the main atom\n",
    "        #If we find a suitable bond then the bonded atom will be the next atom\n",
    "        if checkBondAtom(bond, atom):\n",
    "            if getOtherAtom(bond, atom).name in possibleBonds:\n",
    "                nextAtom=getOtherAtom(bond, atom)\n",
    "            prunelist.append(index) #We keep track of the already visited bonds so we can delete them later\n",
    "        index+=1\n",
    "    #We delete the bonds that we have already visited in order to reduce the list and increase efficency in the next run\n",
    "    deleteElements(pbonds, prunelist) \n",
    "    if nextAtom==atom:\n",
    "        #Finally if we were not able to continue the chain we just delete the whole list\n",
    "        pbonds.clear()\n",
    "    return nextAtom\n",
    "    \n",
    "def findMainChain(peptid):\n",
    "    peptid_top=peptid.top\n",
    "    pbonds=[bond for bond in peptid_top.bonds]\n",
    "    atomlist=[]\n",
    "    #We check for the starting CH3 bond\n",
    "    for i in range(len(pbonds)):\n",
    "        if checkBondString(pbonds[i],'CH3'):\n",
    "            atomlist.append(getAtomBond(pbonds[i],'CH3'))\n",
    "            break #Once we find it we append it to the list and continue from there\n",
    "    while len(pbonds)!=0: #We find the next bonded atom until we reach the end of the chain\n",
    "        nextAtom=findNextBond(pbonds, atomlist[-1])\n",
    "        atomlist.append(nextAtom)\n",
    "    atomlist.pop(-1) #last atom will be repeated\n",
    "    return atomlist\n"
   ]
  },
  {
   "cell_type": "code",
   "execution_count": 54,
   "id": "1025c65f",
   "metadata": {
    "ExecuteTime": {
     "end_time": "2023-01-10T11:32:01.465020Z",
     "start_time": "2023-01-10T11:32:01.451011Z"
    },
    "code_folding": []
   },
   "outputs": [],
   "source": [
    "def bond2index(data,bonds):\n",
    "    #Returns the indexes of the bonds\n",
    "    indeces=[]\n",
    "    for bond in bonds:\n",
    "        index1=atom2index(data, [bond[0]])[0]\n",
    "        index2=atom2index(data, [bond[1]])[0]\n",
    "        indeces.append((index1,index2))\n",
    "    return np.array(indeces)\n",
    "def atom2index(data, atomsList):\n",
    "    #Function that returns a list of the indexes of the atoms in atomList\n",
    "    #:data: set of data loaded with mdtraj\n",
    "    #:atomsList: list of the atoms we want the indexes for\n",
    "    data_top=data.topology\n",
    "    indexes=[]\n",
    "    for atom in atomsList:\n",
    "        for i in range(data_top.n_atoms):\n",
    "            if data_top.atom(i)==atom:\n",
    "                indexes.append(i)\n",
    "    return indexes\n",
    "        "
   ]
  },
  {
   "cell_type": "code",
   "execution_count": 55,
   "id": "b51b3e1c",
   "metadata": {
    "ExecuteTime": {
     "end_time": "2023-01-10T11:32:01.481008Z",
     "start_time": "2023-01-10T11:32:01.468011Z"
    },
    "code_folding": []
   },
   "outputs": [],
   "source": [
    "def getCoord(data, frame=0):\n",
    "    #function that gets the coordinates of all the atoms\n",
    "    coord=[]\n",
    "    for i in range(3):\n",
    "        coord.append(np.array([element[i] for element in data[frame].xyz[0]]))\n",
    "    return coord\n",
    "def colorCodeAtoms(data, frame=0):\n",
    "    #Returns a list with the color coding\n",
    "    code=[]\n",
    "    for atom in data.topology.atoms:\n",
    "        symbol=atom.element.symbol\n",
    "        if symbol=='C':\n",
    "            code.append(\"black\")\n",
    "        elif symbol=='N':\n",
    "            code.append('red')\n",
    "        elif symbol=='O':\n",
    "            code.append(\"blue\")\n",
    "        elif symbol=='H':\n",
    "            code.append(\"gray\")\n",
    "        else:\n",
    "            code.append(\"purple\")\n",
    "    return code\n",
    "def drawBond(data, bond, ax, frame=0):\n",
    "    #Draws a singular bond\n",
    "    indeces=bond2index(data, [bond])[0]\n",
    "    traj=data.xyz[frame]\n",
    "    i1=indeces[0]; i2=indeces[1]\n",
    "    coord=[]\n",
    "    for i in range(3):\n",
    "        coord.append([traj[i1][i], traj[i2][i]])\n",
    "    ax.plot(coord[0], coord[1], coord[2], color=\"cyan\")\n",
    "def drawBonds(data, ax, frame=0):\n",
    "    #Draws all the bonds\n",
    "    data_top=data.topology\n",
    "    bonds=[bond for bond in data_top.bonds]\n",
    "    for bond in bonds:\n",
    "        drawBond(data, bond, ax, frame=frame)   \n",
    "def drawAtoms(data, ax, frame=0, showIndexes=False):\n",
    "    #Draws the atoms\n",
    "    traj=data.xyz\n",
    "    coord=getCoord(data, frame=frame)\n",
    "    cCode=colorCodeAtoms(data, frame)\n",
    "    index_atoms=atom2index(data, [atom for atom in data.top.atoms])\n",
    "    ax.scatter3D(coord[0], coord[1], coord[2], color=cCode);\n",
    "    if showIndexes:\n",
    "        for index in range(len(coord[0])):\n",
    "            ax.text(coord[0][index], coord[1][index],\n",
    "                coord[2][index], index_atoms[index])\n",
    "def drawMolecule(data, phi, psi, frame=0, showIndexes=False):\n",
    "    #Combines bonds and atoms to give a complete image\n",
    "    ax=plt.axes(projection='3d')\n",
    "    drawAtoms(data, ax, frame=frame, showIndexes=showIndexes)\n",
    "    drawBonds(data, ax, frame=frame)\n",
    "    ax.view_init(elev=np.rad2deg(phi),azim=np.rad2deg(psi))"
   ]
  },
  {
   "cell_type": "markdown",
   "id": "5275c207",
   "metadata": {},
   "source": [
    "## Preparing simulation"
   ]
  },
  {
   "cell_type": "markdown",
   "id": "afeeb2e8",
   "metadata": {},
   "source": [
    "### Files and directories"
   ]
  },
  {
   "cell_type": "code",
   "execution_count": 87,
   "id": "31135bb7",
   "metadata": {
    "ExecuteTime": {
     "end_time": "2023-01-11T17:25:59.206078Z",
     "start_time": "2023-01-11T17:25:59.190070Z"
    }
   },
   "outputs": [],
   "source": [
    "name=\"alad-015M-15A\"\n",
    "run=\"NOCHARMM-US-3\"#no umbrella sampling \n",
    "fetchrun=\"NOCHARMM-noUS\"\n",
    "fetchdir=f\"results/alad-015M-15A-run-{fetchrun}/\"\n",
    "resultsdir=\"results/\"+\"{}-run-{}\".format(name,run)\n",
    "if not os.path.exists(resultsdir):\n",
    "    os.mkdir(resultsdir)\n",
    "    print(\"done\")"
   ]
  },
  {
   "cell_type": "code",
   "execution_count": 57,
   "id": "83b8469a",
   "metadata": {
    "ExecuteTime": {
     "end_time": "2023-01-10T11:32:01.529034Z",
     "start_time": "2023-01-10T11:32:01.516015Z"
    }
   },
   "outputs": [],
   "source": [
    "a,b,c = np.loadtxt(\"{}\".format(fetchdir)+'NPT-box-lengths_{}.txt'.format(name))"
   ]
  },
  {
   "cell_type": "code",
   "execution_count": 58,
   "id": "fc945c76",
   "metadata": {
    "ExecuteTime": {
     "end_time": "2023-01-10T11:32:01.719077Z",
     "start_time": "2023-01-10T11:32:01.531031Z"
    }
   },
   "outputs": [],
   "source": [
    "pdb = app.PDBFile(fetchdir+f\"{name}-run-{fetchrun}.pdb\")"
   ]
  },
  {
   "cell_type": "markdown",
   "id": "96441066",
   "metadata": {},
   "source": [
    "### Parameters"
   ]
  },
  {
   "cell_type": "code",
   "execution_count": 59,
   "id": "439570ee",
   "metadata": {
    "ExecuteTime": {
     "end_time": "2023-01-10T11:32:01.735075Z",
     "start_time": "2023-01-10T11:32:01.721068Z"
    }
   },
   "outputs": [],
   "source": [
    "#System parameters\n",
    "constraints = app.HBonds\n",
    "nonbonded_cutoff = 1.0*unit.nanometer\n",
    "switch_distance = 0.8*unit.nanometer\n",
    "nonbonded_method = app.PME\n",
    "implicit_solvent = False\n",
    "solvated = True\n",
    "hydrogen_mass = None"
   ]
  },
  {
   "cell_type": "code",
   "execution_count": 94,
   "id": "70b4aa5a",
   "metadata": {
    "ExecuteTime": {
     "end_time": "2023-01-14T18:05:51.536984Z",
     "start_time": "2023-01-14T18:05:51.530984Z"
    }
   },
   "outputs": [],
   "source": [
    "alanine?"
   ]
  },
  {
   "cell_type": "code",
   "execution_count": 60,
   "id": "92cd4699",
   "metadata": {
    "ExecuteTime": {
     "end_time": "2023-01-10T11:32:01.751084Z",
     "start_time": "2023-01-10T11:32:01.737070Z"
    }
   },
   "outputs": [],
   "source": [
    "#Langevin integrator parameters\n",
    "friction = 1.0 / unit.picoseconds\n",
    "pressure = 1.0 * unit.atmosphere\n",
    "temperature = 298*unit.kelvin\n",
    "timestep = 2.0 * unit.femtosecond"
   ]
  },
  {
   "cell_type": "code",
   "execution_count": 61,
   "id": "0122354a",
   "metadata": {
    "ExecuteTime": {
     "end_time": "2023-01-10T11:32:01.767082Z",
     "start_time": "2023-01-10T11:32:01.753073Z"
    }
   },
   "outputs": [],
   "source": [
    "create_system_kwargs = dict(\n",
    "    removeCMMotion=True,\n",
    "    nonbondedMethod=nonbonded_method,\n",
    "    nonbondedCutoff=nonbonded_cutoff,\n",
    "    switchDistance=switch_distance,\n",
    "    constraints=constraints,\n",
    "    hydrogenMass=hydrogen_mass,\n",
    "    rigidWater=True,\n",
    ")"
   ]
  },
  {
   "cell_type": "code",
   "execution_count": 62,
   "id": "959e2e3c",
   "metadata": {
    "ExecuteTime": {
     "end_time": "2023-01-10T11:32:01.879113Z",
     "start_time": "2023-01-10T11:32:01.770075Z"
    }
   },
   "outputs": [],
   "source": [
    "#System\n",
    "alanine=AlanineDipeptideExplicit(**create_system_kwargs)"
   ]
  },
  {
   "cell_type": "code",
   "execution_count": 63,
   "id": "b7dab771",
   "metadata": {
    "ExecuteTime": {
     "end_time": "2023-01-10T11:32:01.894735Z",
     "start_time": "2023-01-10T11:32:01.882096Z"
    }
   },
   "outputs": [],
   "source": [
    "#Setting periodic box vectors\n",
    "alanine.system.setDefaultPeriodicBoxVectors(\n",
    "    mm.Vec3(a,0,0),\n",
    "    mm.Vec3(0,b,0),\n",
    "    mm.Vec3(0,0,c)\n",
    ")"
   ]
  },
  {
   "cell_type": "code",
   "execution_count": 64,
   "id": "47c05a72",
   "metadata": {
    "ExecuteTime": {
     "end_time": "2023-01-10T11:32:01.910749Z",
     "start_time": "2023-01-10T11:32:01.896735Z"
    }
   },
   "outputs": [],
   "source": [
    "system = alanine.system"
   ]
  },
  {
   "cell_type": "markdown",
   "id": "aa7671f3",
   "metadata": {},
   "source": [
    "### Looking for the dihedral angles"
   ]
  },
  {
   "cell_type": "code",
   "execution_count": 65,
   "id": "a3ba91dd",
   "metadata": {
    "ExecuteTime": {
     "end_time": "2023-01-10T11:32:01.926784Z",
     "start_time": "2023-01-10T11:32:01.912736Z"
    }
   },
   "outputs": [],
   "source": [
    "positions = pdb.getPositions()\n",
    "topology = alanine.topology"
   ]
  },
  {
   "cell_type": "markdown",
   "id": "f12faa12",
   "metadata": {},
   "source": [
    "#### Selecting only the topology of the peptide"
   ]
  },
  {
   "cell_type": "code",
   "execution_count": 66,
   "id": "283f15f6",
   "metadata": {
    "ExecuteTime": {
     "end_time": "2023-01-10T11:32:02.454132Z",
     "start_time": "2023-01-10T11:32:01.928780Z"
    }
   },
   "outputs": [],
   "source": [
    "all_top=md.Topology.from_openmm(topology)\n",
    "atom_list=[]\n",
    "solute_top=md.Topology()\n",
    "# Iterate over the chains in the original Topology\n",
    "for chain in all_top.chains:\n",
    "    # Create a new Chain object in the solute Topology\n",
    "    solute_chain = solute_top.add_chain()\n",
    "    # Iterate over the residues in the chain\n",
    "    for residue in chain.residues:\n",
    "        # If the residue is a solute (ALA) residue, add it to the solute Topology\n",
    "        if residue.name != 'HOH':\n",
    "            solute_top.add_residue(residue.name, solute_chain)\n",
    "            #We append a list that will hold all the atoms of the same residue\n",
    "            atom_list.append([])\n",
    "            for atom in residue.atoms:\n",
    "                #We append tha atoms to their corresponding last list\n",
    "                atom_list[-1].append(atom)\n",
    "\n",
    "#Putting atoms in their residues\n",
    "solute_residue_list=[]\n",
    "for residue in solute_top.residues:\n",
    "    solute_residue_list.append(residue)\n",
    "for indx, atom_group in enumerate(atom_list):\n",
    "    for atom in atom_group:\n",
    "        solute_top.add_atom(atom.name, atom.element, solute_residue_list[indx])\n",
    "                \n",
    "\n",
    "# Iterate over the bonds in the solute residues\n",
    "for bond in all_top.bonds:\n",
    "    # Get the atoms that are bonded\n",
    "    atoms=bond\n",
    "    # If both atoms are in the solute Topology, add the bond\n",
    "    if atoms[0].residue.name != 'HOH' and atoms[1].residue.name != 'HOH':\n",
    "        solute_top.add_bond(atoms[0], atoms[1])\n"
   ]
  },
  {
   "cell_type": "code",
   "execution_count": 67,
   "id": "37eb0474",
   "metadata": {
    "ExecuteTime": {
     "end_time": "2023-01-10T11:32:02.550078Z",
     "start_time": "2023-01-10T11:32:02.456140Z"
    }
   },
   "outputs": [],
   "source": [
    "all_traj=md.load_pdb(fetchdir+f\"{name}-run-{fetchrun}.pdb\")\n",
    "peptide_pos=all_traj.atom_slice(all_traj.top.select(\"not water\")).xyz"
   ]
  },
  {
   "cell_type": "code",
   "execution_count": 68,
   "id": "5c0b91ba",
   "metadata": {
    "ExecuteTime": {
     "end_time": "2023-01-10T11:32:02.566071Z",
     "start_time": "2023-01-10T11:32:02.552074Z"
    }
   },
   "outputs": [],
   "source": [
    "#Building trajectory\n",
    "md_traj=md.Trajectory(peptide_pos, solute_top)"
   ]
  },
  {
   "cell_type": "markdown",
   "id": "462fb40d",
   "metadata": {},
   "source": [
    "#### Getting dihedral angles and indeces"
   ]
  },
  {
   "cell_type": "code",
   "execution_count": 69,
   "id": "3800982b",
   "metadata": {
    "ExecuteTime": {
     "end_time": "2023-01-10T11:32:02.836144Z",
     "start_time": "2023-01-10T11:32:02.567066Z"
    }
   },
   "outputs": [
    {
     "data": {
      "image/png": "[encoded data removed]",
      "text/plain": [
       "<Figure size 432x288 with 1 Axes>"
      ]
     },
     "metadata": {
      "needs_background": "light"
     },
     "output_type": "display_data"
    }
   ],
   "source": [
    "drawMolecule(md_traj, 0*np.pi/180, -100*np.pi/180, showIndexes=True)"
   ]
  },
  {
   "cell_type": "code",
   "execution_count": 70,
   "id": "64aecc13",
   "metadata": {
    "ExecuteTime": {
     "end_time": "2023-01-10T11:32:02.852255Z",
     "start_time": "2023-01-10T11:32:02.838134Z"
    }
   },
   "outputs": [],
   "source": [
    "phi_indeces, phi_0=md.compute_phi(md_traj)\n",
    "psi_indeces, psi_0=md.compute_psi(md_traj)\n",
    "phi_indeces=phi_indeces[0]; psi_indeces=psi_indeces[0]\n",
    "psi_0=psi_0[0][0]; phi_0=phi_0[0][0]"
   ]
  },
  {
   "cell_type": "markdown",
   "id": "ece7b58c",
   "metadata": {},
   "source": [
    "### Adding torsion force"
   ]
  },
  {
   "cell_type": "code",
   "execution_count": 71,
   "id": "ebc48cf9",
   "metadata": {
    "ExecuteTime": {
     "end_time": "2023-01-10T11:32:02.868260Z",
     "start_time": "2023-01-10T11:32:02.854256Z"
    }
   },
   "outputs": [
    {
     "data": {
      "text/plain": [
       "0"
      ]
     },
     "execution_count": 71,
     "metadata": {},
     "output_type": "execute_result"
    }
   ],
   "source": [
    "## add harmonic biasing potentials on two dihedrals of dialanine (psi, phi) in the\n",
    "#OpenMM system\n",
    "## for dihedral phi\n",
    "bias_torsion_phi = mm.CustomTorsionForce(\"0.5*k_phi*dtheta^2; dtheta = min(tmp, 2*pi-tmp); tmp = abs(theta - phi)\")\n",
    "bias_torsion_phi.addGlobalParameter(\"pi\", np.pi)\n",
    "bias_torsion_phi.addGlobalParameter(\"k_phi\", 131)\n",
    "bias_torsion_phi.addGlobalParameter(\"phi\", float(phi_0))\n",
    "e, f, g, k = phi_indeces\n",
    "bias_torsion_phi.addTorsion(int(e), int(f), int(g), int(k))\n",
    "\n",
    "## for dihedral psi\n",
    "bias_torsion_psi = mm.CustomTorsionForce(\"0.5*k_psi*dtheta^2; dtheta = min(tmp, 2*pi-tmp); tmp = abs(theta - psi)\")\n",
    "bias_torsion_psi.addGlobalParameter(\"pi\", np.pi)\n",
    "bias_torsion_psi.addGlobalParameter(\"k_psi\", 131)\n",
    "bias_torsion_psi.addGlobalParameter(\"psi\", float(psi_0))\n",
    "e, f, g, k = psi_indeces\n",
    "bias_torsion_psi.addTorsion(int(e), int(f), int(g), int(k))"
   ]
  },
  {
   "cell_type": "code",
   "execution_count": 72,
   "id": "df12b2a2",
   "metadata": {
    "ExecuteTime": {
     "end_time": "2023-01-10T11:32:02.884264Z",
     "start_time": "2023-01-10T11:32:02.869260Z"
    }
   },
   "outputs": [
    {
     "data": {
      "text/plain": [
       "6"
      ]
     },
     "execution_count": 72,
     "metadata": {},
     "output_type": "execute_result"
    }
   ],
   "source": [
    "#add the torsion to the system\n",
    "system.addForce(bias_torsion_psi)\n",
    "system.addForce(bias_torsion_phi)"
   ]
  },
  {
   "cell_type": "markdown",
   "id": "8c8b6c6d",
   "metadata": {},
   "source": [
    "### Adding the rest"
   ]
  },
  {
   "cell_type": "code",
   "execution_count": 73,
   "id": "01518365",
   "metadata": {
    "ExecuteTime": {
     "end_time": "2023-01-10T11:32:02.900267Z",
     "start_time": "2023-01-10T11:32:02.887265Z"
    }
   },
   "outputs": [],
   "source": [
    "integrator = mm.LangevinIntegrator(temperature , friction , timestep)\n",
    "integrator.setConstraintTolerance(1e-7)\n",
    "\n",
    "platform = mm.Platform.getPlatformByName(\"OpenCL\")\n",
    "platform_properties = {\"DeviceIndex\": \"0\", \"Precision\": \"mixed\"}"
   ]
  },
  {
   "cell_type": "markdown",
   "id": "ddd73814",
   "metadata": {},
   "source": [
    "## Creating simulaiton"
   ]
  },
  {
   "cell_type": "code",
   "execution_count": 74,
   "id": "c62efd4a",
   "metadata": {
    "ExecuteTime": {
     "end_time": "2023-01-10T11:32:04.783982Z",
     "start_time": "2023-01-10T11:32:02.902268Z"
    }
   },
   "outputs": [],
   "source": [
    "simulation = mm.app.Simulation(topology, system, integrator, platform, platform_properties)\n",
    "\n",
    "#setting positions and velocities\n",
    "simulation.context.setPositions(positions)\n",
    "simulation.context.setVelocitiesToTemperature(temperature)"
   ]
  },
  {
   "cell_type": "code",
   "execution_count": 75,
   "id": "43105c88",
   "metadata": {
    "ExecuteTime": {
     "end_time": "2023-01-10T11:32:06.408172Z",
     "start_time": "2023-01-10T11:32:04.783982Z"
    }
   },
   "outputs": [
    {
     "data": {
      "text/plain": [
       "[<matplotlib.lines.Line2D at 0x24ee875c208>]"
      ]
     },
     "execution_count": 75,
     "metadata": {},
     "output_type": "execute_result"
    },
    {
     "data": {
      "image/png": "[encoded data removed]",
      "text/plain": [
       "<Figure size 432x288 with 1 Axes>"
      ]
     },
     "metadata": {
      "needs_background": "light"
     },
     "output_type": "display_data"
    }
   ],
   "source": [
    "#computing forces\n",
    "forces=simulation.context.getState(getForces=True).getForces(asNumpy=True)\n",
    "forces_total=np.sqrt(forces[:,0]**2+forces[:,1]**2+forces[:,2]**2)\n",
    "n=np.arange(len(forces_total))\n",
    "plt.plot(n,forces_total)"
   ]
  },
  {
   "cell_type": "markdown",
   "id": "d6853975",
   "metadata": {},
   "source": [
    "### Putting reporters"
   ]
  },
  {
   "cell_type": "code",
   "execution_count": 76,
   "id": "54b74a49",
   "metadata": {
    "ExecuteTime": {
     "end_time": "2023-01-10T11:32:06.424187Z",
     "start_time": "2023-01-10T11:32:06.410180Z"
    }
   },
   "outputs": [],
   "source": [
    "simulation.reporters.append(app.DCDReporter('{}/{}-run-{}.dcd'.format(resultsdir, name, run), 5000))\n",
    "simulation.reporters.append(app.StateDataReporter('{}/{}-scalars-{}.csv'.format(resultsdir, name, run), \n",
    "    1000, time=True, potentialEnergy=True, totalEnergy=True,\n",
    "    temperature=True, speed=True, elapsedTime=True))"
   ]
  },
  {
   "cell_type": "code",
   "execution_count": 77,
   "id": "5b8a4fa6",
   "metadata": {
    "ExecuteTime": {
     "end_time": "2023-01-10T11:32:06.440189Z",
     "start_time": "2023-01-10T11:32:06.426187Z"
    }
   },
   "outputs": [
    {
     "name": "stdout",
     "output_type": "stream",
     "text": [
      "ACE\n",
      "ALA\n",
      "NME\n"
     ]
    }
   ],
   "source": [
    "#setting the list of atoms to save\n",
    "atom_list = []\n",
    "for residue in topology.residues():\n",
    "    if residue.name != 'HOH':\n",
    "        print(residue.name)\n",
    "        for atom in residue.atoms():\n",
    "            atom_list.append(atom.index)"
   ]
  },
  {
   "cell_type": "markdown",
   "id": "6dde586a",
   "metadata": {},
   "source": [
    "## Running Simulation"
   ]
  },
  {
   "cell_type": "code",
   "execution_count": 78,
   "id": "f85bde8a",
   "metadata": {
    "ExecuteTime": {
     "end_time": "2023-01-10T11:32:06.455192Z",
     "start_time": "2023-01-10T11:32:06.442188Z"
    }
   },
   "outputs": [],
   "source": [
    "last_chk=0"
   ]
  },
  {
   "cell_type": "code",
   "execution_count": 79,
   "id": "30fd2671",
   "metadata": {
    "ExecuteTime": {
     "end_time": "2023-01-10T11:32:06.470406Z",
     "start_time": "2023-01-10T11:32:06.457192Z"
    }
   },
   "outputs": [],
   "source": [
    "# How frequently to save\n",
    "step_size = 100\n",
    "# How many steps that are saved\n",
    "n_steps = 2\n",
    "# How many times to save\n",
    "loops = 100\n",
    "#How long to equilibrate\n",
    "equil_steps=1000\n",
    "#Total window time\n",
    "equil_time=equil_steps*timestep.in_units_of(unit.picosecond)\n",
    "window_time=timestep.in_units_of(unit.picosecond)*step_size*n_steps*loops+equil_time"
   ]
  },
  {
   "cell_type": "code",
   "execution_count": 80,
   "id": "33c3172c",
   "metadata": {
    "ExecuteTime": {
     "end_time": "2023-01-10T11:32:06.485560Z",
     "start_time": "2023-01-10T11:32:06.472412Z"
    }
   },
   "outputs": [
    {
     "name": "stdout",
     "output_type": "stream",
     "text": [
      "Simulation time per sampling: 42.0 ps \n",
      "(40.0 ps of production time + 2.0 ps of equilibration time)\n"
     ]
    }
   ],
   "source": [
    "print(f\"Simulation time per sampling: {window_time} \\n({window_time-equil_time} of production time + {equil_time} of equilibration time)\")"
   ]
  },
  {
   "cell_type": "code",
   "execution_count": 81,
   "id": "6b98ea3f",
   "metadata": {
    "ExecuteTime": {
     "end_time": "2023-01-10T11:32:06.501425Z",
     "start_time": "2023-01-10T11:32:06.488417Z"
    },
    "code_folding": []
   },
   "outputs": [],
   "source": [
    "#Computing the window ranges\n",
    "n_windows=360//20; angle_step=20*np.pi/180\n",
    "total_windows=n_windows*n_windows\n",
    "psi=np.array([psi_0+angle_step*i for i in range(n_windows)])%(2*np.pi)\n",
    "phi=np.array([phi_0+angle_step*i for i in range(n_windows)])%(2*np.pi)"
   ]
  },
  {
   "cell_type": "code",
   "execution_count": 82,
   "id": "57631ec5",
   "metadata": {
    "ExecuteTime": {
     "end_time": "2023-01-10T11:32:06.517415Z",
     "start_time": "2023-01-10T11:32:06.503425Z"
    }
   },
   "outputs": [
    {
     "name": "stdout",
     "output_type": "stream",
     "text": [
      "Simulation time total: 13.607999999999997 ns\n"
     ]
    }
   ],
   "source": [
    "print(f\"Simulation time total: {total_windows*window_time.in_units_of(unit.nanosecond)}\")"
   ]
  },
  {
   "cell_type": "code",
   "execution_count": 83,
   "id": "2ae7d4d8",
   "metadata": {
    "ExecuteTime": {
     "end_time": "2023-01-10T23:58:58.555411Z",
     "start_time": "2023-01-10T11:32:12.309873Z"
    }
   },
   "outputs": [
    {
     "name": "stdout",
     "output_type": "stream",
     "text": [
      "Sampling at psi index: 0 out of 18, \n",
      "         at phi index: 0 out of 18\n",
      "Energy minimized\n",
      "Simulating: 99.500000%  [==================================================X]Sampling at psi index: 1 out of 18, \n",
      "         at phi index: 0 out of 18\n",
      "Energy minimized\n",
      "Simulating: 99.500000%  [==================================================X]Sampling at psi index: 2 out of 18, \n",
      "         at phi index: 0 out of 18\n",
      "Energy minimized\n",
      "Simulating: 99.500000%  [==================================================X]Sampling at psi index: 3 out of 18, \n",
      "         at phi index: 0 out of 18\n",
      "Energy minimized\n",
      "Simulating: 99.500000%  [==================================================X]Sampling at psi index: 4 out of 18, \n",
      "         at phi index: 0 out of 18\n",
      "Energy minimized\n",
      "Simulating: 99.500000%  [==================================================X]Sampling at psi index: 5 out of 18, \n",
      "         at phi index: 0 out of 18\n",
      "Energy minimized\n",
      "Simulating: 99.500000%  [==================================================X]Sampling at psi index: 6 out of 18, \n",
      "         at phi index: 0 out of 18\n",
      "Energy minimized\n",
      "Simulating: 99.500000%  [==================================================X]Sampling at psi index: 7 out of 18, \n",
      "         at phi index: 0 out of 18\n",
      "Energy minimized\n",
      "Simulating: 99.500000%  [==================================================X]Sampling at psi index: 8 out of 18, \n",
      "         at phi index: 0 out of 18\n",
      "Energy minimized\n",
      "Simulating: 99.500000%  [==================================================X]Sampling at psi index: 9 out of 18, \n",
      "         at phi index: 0 out of 18\n",
      "Energy minimized\n",
      "Simulating: 99.500000%  [==================================================X]Sampling at psi index: 10 out of 18, \n",
      "         at phi index: 0 out of 18\n",
      "Energy minimized\n",
      "Simulating: 99.500000%  [==================================================X]Sampling at psi index: 11 out of 18, \n",
      "         at phi index: 0 out of 18\n",
      "Energy minimized\n",
      "Simulating: 99.500000%  [==================================================X]Sampling at psi index: 12 out of 18, \n",
      "         at phi index: 0 out of 18\n",
      "Energy minimized\n",
      "Simulating: 99.500000%  [==================================================X]Sampling at psi index: 13 out of 18, \n",
      "         at phi index: 0 out of 18\n",
      "Energy minimized\n",
      "Simulating: 99.500000%  [==================================================X]Sampling at psi index: 14 out of 18, \n",
      "         at phi index: 0 out of 18\n",
      "Energy minimized\n",
      "Simulating: 99.500000%  [==================================================X]Sampling at psi index: 15 out of 18, \n",
      "         at phi index: 0 out of 18\n",
      "Energy minimized\n",
      "Simulating: 99.500000%  [==================================================X]Sampling at psi index: 16 out of 18, \n",
      "         at phi index: 0 out of 18\n",
      "Energy minimized\n",
      "Simulating: 99.500000%  [==================================================X]Sampling at psi index: 17 out of 18, \n",
      "         at phi index: 0 out of 18\n",
      "Energy minimized\n",
      "Simulating: 99.500000%  [==================================================X]Sampling at psi index: 0 out of 18, \n",
      "         at phi index: 1 out of 18\n",
      "Energy minimized\n",
      "Simulating: 99.500000%  [==================================================X]Sampling at psi index: 1 out of 18, \n",
      "         at phi index: 1 out of 18\n",
      "Energy minimized\n",
      "Simulating: 99.500000%  [==================================================X]Sampling at psi index: 2 out of 18, \n",
      "         at phi index: 1 out of 18\n",
      "Energy minimized\n",
      "Simulating: 99.500000%  [==================================================X]Sampling at psi index: 3 out of 18, \n",
      "         at phi index: 1 out of 18\n",
      "Energy minimized\n",
      "Simulating: 99.500000%  [==================================================X]Sampling at psi index: 4 out of 18, \n",
      "         at phi index: 1 out of 18\n",
      "Energy minimized\n",
      "Simulating: 99.500000%  [==================================================X]Sampling at psi index: 5 out of 18, \n",
      "         at phi index: 1 out of 18\n",
      "Energy minimized\n",
      "Simulating: 99.500000%  [==================================================X]Sampling at psi index: 6 out of 18, \n",
      "         at phi index: 1 out of 18\n",
      "Energy minimized\n",
      "Simulating: 99.500000%  [==================================================X]Sampling at psi index: 7 out of 18, \n",
      "         at phi index: 1 out of 18\n",
      "Energy minimized\n",
      "Simulating: 99.500000%  [==================================================X]Sampling at psi index: 8 out of 18, \n",
      "         at phi index: 1 out of 18\n",
      "Energy minimized\n",
      "Simulating: 99.500000%  [==================================================X]Sampling at psi index: 9 out of 18, \n",
      "         at phi index: 1 out of 18\n",
      "Energy minimized\n",
      "Simulating: 99.500000%  [==================================================X]Sampling at psi index: 10 out of 18, \n",
      "         at phi index: 1 out of 18\n",
      "Energy minimized\n",
      "Simulating: 99.500000%  [==================================================X]Sampling at psi index: 11 out of 18, \n",
      "         at phi index: 1 out of 18\n",
      "Energy minimized\n",
      "Simulating: 99.500000%  [==================================================X]Sampling at psi index: 12 out of 18, \n",
      "         at phi index: 1 out of 18\n",
      "Energy minimized\n",
      "Simulating: 99.500000%  [==================================================X]Sampling at psi index: 13 out of 18, \n",
      "         at phi index: 1 out of 18\n",
      "Energy minimized\n",
      "Simulating: 99.500000%  [==================================================X]Sampling at psi index: 14 out of 18, \n",
      "         at phi index: 1 out of 18\n",
      "Energy minimized\n",
      "Simulating: 99.500000%  [==================================================X]Sampling at psi index: 15 out of 18, \n",
      "         at phi index: 1 out of 18\n",
      "Energy minimized\n",
      "Simulating: 99.500000%  [==================================================X]Sampling at psi index: 16 out of 18, \n",
      "         at phi index: 1 out of 18\n",
      "Energy minimized\n",
      "Simulating: 99.500000%  [==================================================X]Sampling at psi index: 17 out of 18, \n",
      "         at phi index: 1 out of 18\n",
      "Energy minimized\n",
      "Simulating: 99.500000%  [==================================================X]Sampling at psi index: 0 out of 18, \n",
      "         at phi index: 2 out of 18\n",
      "Energy minimized\n",
      "Simulating: 99.500000%  [==================================================X]Sampling at psi index: 1 out of 18, \n",
      "         at phi index: 2 out of 18\n",
      "Energy minimized\n",
      "Simulating: 99.500000%  [==================================================X]Sampling at psi index: 2 out of 18, \n",
      "         at phi index: 2 out of 18\n",
      "Energy minimized\n",
      "Simulating: 99.500000%  [==================================================X]Sampling at psi index: 3 out of 18, \n",
      "         at phi index: 2 out of 18\n",
      "Energy minimized\n",
      "Simulating: 99.500000%  [==================================================X]Sampling at psi index: 4 out of 18, \n",
      "         at phi index: 2 out of 18\n",
      "Energy minimized\n",
      "Simulating: 99.500000%  [==================================================X]Sampling at psi index: 5 out of 18, \n",
      "         at phi index: 2 out of 18\n",
      "Energy minimized\n",
      "Simulating: 99.500000%  [==================================================X]Sampling at psi index: 6 out of 18, \n",
      "         at phi index: 2 out of 18\n",
      "Energy minimized\n",
      "Simulating: 99.500000%  [==================================================X]Sampling at psi index: 7 out of 18, \n",
      "         at phi index: 2 out of 18\n",
      "Energy minimized\n",
      "Simulating: 99.500000%  [==================================================X]Sampling at psi index: 8 out of 18, \n",
      "         at phi index: 2 out of 18\n",
      "Energy minimized\n",
      "Simulating: 99.500000%  [==================================================X]Sampling at psi index: 9 out of 18, \n",
      "         at phi index: 2 out of 18\n",
      "Energy minimized\n",
      "Simulating: 99.500000%  [==================================================X]Sampling at psi index: 10 out of 18, \n",
      "         at phi index: 2 out of 18\n",
      "Energy minimized\n",
      "Simulating: 99.500000%  [==================================================X]Sampling at psi index: 11 out of 18, \n",
      "         at phi index: 2 out of 18\n",
      "Energy minimized\n",
      "Simulating: 99.500000%  [==================================================X]Sampling at psi index: 12 out of 18, \n",
      "         at phi index: 2 out of 18\n",
      "Energy minimized\n",
      "Simulating: 99.500000%  [==================================================X]Sampling at psi index: 13 out of 18, \n",
      "         at phi index: 2 out of 18\n"
     ]
    },
    {
     "name": "stdout",
     "output_type": "stream",
     "text": [
      "Energy minimized\n",
      "Simulating: 99.500000%  [==================================================X]Sampling at psi index: 14 out of 18, \n",
      "         at phi index: 2 out of 18\n",
      "Energy minimized\n",
      "Simulating: 99.500000%  [==================================================X]Sampling at psi index: 15 out of 18, \n",
      "         at phi index: 2 out of 18\n",
      "Energy minimized\n",
      "Simulating: 99.500000%  [==================================================X]Sampling at psi index: 16 out of 18, \n",
      "         at phi index: 2 out of 18\n",
      "Energy minimized\n",
      "Simulating: 99.500000%  [==================================================X]Sampling at psi index: 17 out of 18, \n",
      "         at phi index: 2 out of 18\n",
      "Energy minimized\n",
      "Simulating: 99.500000%  [==================================================X]Sampling at psi index: 0 out of 18, \n",
      "         at phi index: 3 out of 18\n",
      "Energy minimized\n",
      "Simulating: 99.500000%  [==================================================X]Sampling at psi index: 1 out of 18, \n",
      "         at phi index: 3 out of 18\n",
      "Energy minimized\n",
      "Simulating: 99.500000%  [==================================================X]Sampling at psi index: 2 out of 18, \n",
      "         at phi index: 3 out of 18\n",
      "Energy minimized\n",
      "Simulating: 99.500000%  [==================================================X]Sampling at psi index: 3 out of 18, \n",
      "         at phi index: 3 out of 18\n",
      "Energy minimized\n",
      "Simulating: 99.500000%  [==================================================X]Sampling at psi index: 4 out of 18, \n",
      "         at phi index: 3 out of 18\n",
      "Energy minimized\n",
      "Simulating: 99.500000%  [==================================================X]Sampling at psi index: 5 out of 18, \n",
      "         at phi index: 3 out of 18\n",
      "Energy minimized\n",
      "Simulating: 99.500000%  [==================================================X]Sampling at psi index: 6 out of 18, \n",
      "         at phi index: 3 out of 18\n",
      "Energy minimized\n",
      "Simulating: 99.500000%  [==================================================X]Sampling at psi index: 7 out of 18, \n",
      "         at phi index: 3 out of 18\n",
      "Energy minimized\n",
      "Simulating: 99.500000%  [==================================================X]Sampling at psi index: 8 out of 18, \n",
      "         at phi index: 3 out of 18\n",
      "Energy minimized\n",
      "Simulating: 99.500000%  [==================================================X]Sampling at psi index: 9 out of 18, \n",
      "         at phi index: 3 out of 18\n",
      "Energy minimized\n",
      "Simulating: 99.500000%  [==================================================X]Sampling at psi index: 10 out of 18, \n",
      "         at phi index: 3 out of 18\n",
      "Energy minimized\n",
      "Simulating: 99.500000%  [==================================================X]Sampling at psi index: 11 out of 18, \n",
      "         at phi index: 3 out of 18\n",
      "Energy minimized\n",
      "Simulating: 99.500000%  [==================================================X]Sampling at psi index: 12 out of 18, \n",
      "         at phi index: 3 out of 18\n",
      "Energy minimized\n",
      "Simulating: 99.500000%  [==================================================X]Sampling at psi index: 13 out of 18, \n",
      "         at phi index: 3 out of 18\n",
      "Energy minimized\n",
      "Simulating: 99.500000%  [==================================================X]Sampling at psi index: 14 out of 18, \n",
      "         at phi index: 3 out of 18\n",
      "Energy minimized\n",
      "Simulating: 99.500000%  [==================================================X]Sampling at psi index: 15 out of 18, \n",
      "         at phi index: 3 out of 18\n",
      "Energy minimized\n",
      "Simulating: 99.500000%  [==================================================X]Sampling at psi index: 16 out of 18, \n",
      "         at phi index: 3 out of 18\n",
      "Energy minimized\n",
      "Simulating: 99.500000%  [==================================================X]Sampling at psi index: 17 out of 18, \n",
      "         at phi index: 3 out of 18\n",
      "Energy minimized\n",
      "Simulating: 99.500000%  [==================================================X]Sampling at psi index: 0 out of 18, \n",
      "         at phi index: 4 out of 18\n",
      "Energy minimized\n",
      "Simulating: 99.500000%  [==================================================X]Sampling at psi index: 1 out of 18, \n",
      "         at phi index: 4 out of 18\n",
      "Energy minimized\n",
      "Simulating: 99.500000%  [==================================================X]Sampling at psi index: 2 out of 18, \n",
      "         at phi index: 4 out of 18\n",
      "Energy minimized\n",
      "Simulating: 99.500000%  [==================================================X]Sampling at psi index: 3 out of 18, \n",
      "         at phi index: 4 out of 18\n",
      "Energy minimized\n",
      "Simulating: 99.500000%  [==================================================X]Sampling at psi index: 4 out of 18, \n",
      "         at phi index: 4 out of 18\n",
      "Energy minimized\n",
      "Simulating: 99.500000%  [==================================================X]Sampling at psi index: 5 out of 18, \n",
      "         at phi index: 4 out of 18\n",
      "Energy minimized\n",
      "Simulating: 99.500000%  [==================================================X]Sampling at psi index: 6 out of 18, \n",
      "         at phi index: 4 out of 18\n",
      "Energy minimized\n",
      "Simulating: 99.500000%  [==================================================X]Sampling at psi index: 7 out of 18, \n",
      "         at phi index: 4 out of 18\n",
      "Energy minimized\n",
      "Simulating: 99.500000%  [==================================================X]Sampling at psi index: 8 out of 18, \n",
      "         at phi index: 4 out of 18\n",
      "Energy minimized\n",
      "Simulating: 99.500000%  [==================================================X]Sampling at psi index: 9 out of 18, \n",
      "         at phi index: 4 out of 18\n",
      "Energy minimized\n",
      "Simulating: 99.500000%  [==================================================X]Sampling at psi index: 10 out of 18, \n",
      "         at phi index: 4 out of 18\n",
      "Energy minimized\n",
      "Simulating: 99.500000%  [==================================================X]Sampling at psi index: 11 out of 18, \n",
      "         at phi index: 4 out of 18\n",
      "Energy minimized\n",
      "Simulating: 99.500000%  [==================================================X]Sampling at psi index: 12 out of 18, \n",
      "         at phi index: 4 out of 18\n",
      "Energy minimized\n",
      "Simulating: 99.500000%  [==================================================X]Sampling at psi index: 13 out of 18, \n",
      "         at phi index: 4 out of 18\n",
      "Energy minimized\n",
      "Simulating: 99.500000%  [==================================================X]Sampling at psi index: 14 out of 18, \n",
      "         at phi index: 4 out of 18\n",
      "Energy minimized\n",
      "Simulating: 99.500000%  [==================================================X]Sampling at psi index: 15 out of 18, \n",
      "         at phi index: 4 out of 18\n",
      "Energy minimized\n",
      "Simulating: 99.500000%  [==================================================X]Sampling at psi index: 16 out of 18, \n",
      "         at phi index: 4 out of 18\n",
      "Energy minimized\n",
      "Simulating: 99.500000%  [==================================================X]Sampling at psi index: 17 out of 18, \n",
      "         at phi index: 4 out of 18\n",
      "Energy minimized\n",
      "Simulating: 99.500000%  [==================================================X]Sampling at psi index: 0 out of 18, \n",
      "         at phi index: 5 out of 18\n",
      "Energy minimized\n",
      "Simulating: 99.500000%  [==================================================X]Sampling at psi index: 1 out of 18, \n",
      "         at phi index: 5 out of 18\n",
      "Energy minimized\n",
      "Simulating: 99.500000%  [==================================================X]Sampling at psi index: 2 out of 18, \n",
      "         at phi index: 5 out of 18\n",
      "Energy minimized\n",
      "Simulating: 99.500000%  [==================================================X]Sampling at psi index: 3 out of 18, \n",
      "         at phi index: 5 out of 18\n",
      "Energy minimized\n",
      "Simulating: 99.500000%  [==================================================X]Sampling at psi index: 4 out of 18, \n",
      "         at phi index: 5 out of 18\n",
      "Energy minimized\n",
      "Simulating: 99.500000%  [==================================================X]Sampling at psi index: 5 out of 18, \n",
      "         at phi index: 5 out of 18\n",
      "Energy minimized\n",
      "Simulating: 99.500000%  [==================================================X]Sampling at psi index: 6 out of 18, \n",
      "         at phi index: 5 out of 18\n",
      "Energy minimized\n",
      "Simulating: 99.500000%  [==================================================X]Sampling at psi index: 7 out of 18, \n",
      "         at phi index: 5 out of 18\n",
      "Energy minimized\n",
      "Simulating: 99.500000%  [==================================================X]Sampling at psi index: 8 out of 18, \n",
      "         at phi index: 5 out of 18\n",
      "Energy minimized\n",
      "Simulating: 99.500000%  [==================================================X]Sampling at psi index: 9 out of 18, \n",
      "         at phi index: 5 out of 18\n",
      "Energy minimized\n",
      "Simulating: 99.500000%  [==================================================X]Sampling at psi index: 10 out of 18, \n",
      "         at phi index: 5 out of 18\n",
      "Energy minimized\n",
      "Simulating: 99.500000%  [==================================================X]Sampling at psi index: 11 out of 18, \n",
      "         at phi index: 5 out of 18\n",
      "Energy minimized\n",
      "Simulating: 99.500000%  [==================================================X]Sampling at psi index: 12 out of 18, \n",
      "         at phi index: 5 out of 18\n",
      "Energy minimized\n",
      "Simulating: 99.500000%  [==================================================X]Sampling at psi index: 13 out of 18, \n",
      "         at phi index: 5 out of 18\n",
      "Energy minimized\n",
      "Simulating: 99.500000%  [==================================================X]Sampling at psi index: 14 out of 18, \n",
      "         at phi index: 5 out of 18\n",
      "Energy minimized\n",
      "Simulating: 99.500000%  [==================================================X]Sampling at psi index: 15 out of 18, \n",
      "         at phi index: 5 out of 18\n",
      "Energy minimized\n",
      "Simulating: 99.500000%  [==================================================X]Sampling at psi index: 16 out of 18, \n",
      "         at phi index: 5 out of 18\n",
      "Energy minimized\n",
      "Simulating: 99.500000%  [==================================================X]Sampling at psi index: 17 out of 18, \n",
      "         at phi index: 5 out of 18\n",
      "Energy minimized\n",
      "Simulating: 99.500000%  [==================================================X]Sampling at psi index: 0 out of 18, \n",
      "         at phi index: 6 out of 18\n",
      "Energy minimized\n",
      "Simulating: 99.500000%  [==================================================X]Sampling at psi index: 1 out of 18, \n",
      "         at phi index: 6 out of 18\n",
      "Energy minimized\n",
      "Simulating: 99.500000%  [==================================================X]Sampling at psi index: 2 out of 18, \n",
      "         at phi index: 6 out of 18\n",
      "Energy minimized\n",
      "Simulating: 99.500000%  [==================================================X]Sampling at psi index: 3 out of 18, \n",
      "         at phi index: 6 out of 18\n",
      "Energy minimized\n",
      "Simulating: 99.500000%  [==================================================X]Sampling at psi index: 4 out of 18, \n",
      "         at phi index: 6 out of 18\n",
      "Energy minimized\n",
      "Simulating: 99.500000%  [==================================================X]Sampling at psi index: 5 out of 18, \n",
      "         at phi index: 6 out of 18\n",
      "Energy minimized\n",
      "Simulating: 99.500000%  [==================================================X]Sampling at psi index: 6 out of 18, \n",
      "         at phi index: 6 out of 18\n",
      "Energy minimized\n",
      "Simulating: 99.500000%  [==================================================X]Sampling at psi index: 7 out of 18, \n",
      "         at phi index: 6 out of 18\n",
      "Energy minimized\n",
      "Simulating: 99.500000%  [==================================================X]Sampling at psi index: 8 out of 18, \n",
      "         at phi index: 6 out of 18\n",
      "Energy minimized\n",
      "Simulating: 99.500000%  [==================================================X]Sampling at psi index: 9 out of 18, \n",
      "         at phi index: 6 out of 18\n",
      "Energy minimized\n",
      "Simulating: 99.500000%  [==================================================X]Sampling at psi index: 10 out of 18, \n",
      "         at phi index: 6 out of 18\n",
      "Energy minimized\n",
      "Simulating: 99.500000%  [==================================================X]Sampling at psi index: 11 out of 18, \n",
      "         at phi index: 6 out of 18\n",
      "Energy minimized\n",
      "Simulating: 99.500000%  [==================================================X]Sampling at psi index: 12 out of 18, \n",
      "         at phi index: 6 out of 18\n",
      "Energy minimized\n",
      "Simulating: 99.500000%  [==================================================X]Sampling at psi index: 13 out of 18, \n",
      "         at phi index: 6 out of 18\n",
      "Energy minimized\n",
      "Simulating: 99.500000%  [==================================================X]Sampling at psi index: 14 out of 18, \n",
      "         at phi index: 6 out of 18\n",
      "Energy minimized\n",
      "Simulating: 99.500000%  [==================================================X]Sampling at psi index: 15 out of 18, \n",
      "         at phi index: 6 out of 18\n",
      "Energy minimized\n",
      "Simulating: 99.500000%  [==================================================X]Sampling at psi index: 16 out of 18, \n",
      "         at phi index: 6 out of 18\n",
      "Energy minimized\n",
      "Simulating: 99.500000%  [==================================================X]Sampling at psi index: 17 out of 18, \n",
      "         at phi index: 6 out of 18\n",
      "Energy minimized\n",
      "Simulating: 99.500000%  [==================================================X]Sampling at psi index: 0 out of 18, \n",
      "         at phi index: 7 out of 18\n",
      "Energy minimized\n",
      "Simulating: 99.500000%  [==================================================X]Sampling at psi index: 1 out of 18, \n",
      "         at phi index: 7 out of 18\n",
      "Energy minimized\n",
      "Simulating: 99.500000%  [==================================================X]Sampling at psi index: 2 out of 18, \n",
      "         at phi index: 7 out of 18\n",
      "Energy minimized\n",
      "Simulating: 99.500000%  [==================================================X]Sampling at psi index: 3 out of 18, \n",
      "         at phi index: 7 out of 18\n",
      "Energy minimized\n",
      "Simulating: 99.500000%  [==================================================X]Sampling at psi index: 4 out of 18, \n",
      "         at phi index: 7 out of 18\n",
      "Energy minimized\n",
      "Simulating: 99.500000%  [==================================================X]Sampling at psi index: 5 out of 18, \n",
      "         at phi index: 7 out of 18\n",
      "Energy minimized\n",
      "Simulating: 99.500000%  [==================================================X]Sampling at psi index: 6 out of 18, \n",
      "         at phi index: 7 out of 18\n",
      "Energy minimized\n",
      "Simulating: 99.500000%  [==================================================X]Sampling at psi index: 7 out of 18, \n",
      "         at phi index: 7 out of 18\n",
      "Energy minimized\n",
      "Simulating: 99.500000%  [==================================================X]Sampling at psi index: 8 out of 18, \n",
      "         at phi index: 7 out of 18\n",
      "Energy minimized\n",
      "Simulating: 99.500000%  [==================================================X]Sampling at psi index: 9 out of 18, \n",
      "         at phi index: 7 out of 18\n",
      "Energy minimized\n",
      "Simulating: 99.500000%  [==================================================X]Sampling at psi index: 10 out of 18, \n",
      "         at phi index: 7 out of 18\n",
      "Energy minimized\n",
      "Simulating: 99.500000%  [==================================================X]Sampling at psi index: 11 out of 18, \n",
      "         at phi index: 7 out of 18\n",
      "Energy minimized\n",
      "Simulating: 99.500000%  [==================================================X]Sampling at psi index: 12 out of 18, \n",
      "         at phi index: 7 out of 18\n",
      "Energy minimized\n",
      "Simulating: 99.500000%  [==================================================X]Sampling at psi index: 13 out of 18, \n",
      "         at phi index: 7 out of 18\n",
      "Energy minimized\n",
      "Simulating: 99.500000%  [==================================================X]Sampling at psi index: 14 out of 18, \n",
      "         at phi index: 7 out of 18\n",
      "Energy minimized\n",
      "Simulating: 99.500000%  [==================================================X]Sampling at psi index: 15 out of 18, \n",
      "         at phi index: 7 out of 18\n",
      "Energy minimized\n",
      "Simulating: 99.500000%  [==================================================X]Sampling at psi index: 16 out of 18, \n",
      "         at phi index: 7 out of 18\n",
      "Energy minimized\n",
      "Simulating: 99.500000%  [==================================================X]Sampling at psi index: 17 out of 18, \n",
      "         at phi index: 7 out of 18\n",
      "Energy minimized\n",
      "Simulating: 99.500000%  [==================================================X]Sampling at psi index: 0 out of 18, \n",
      "         at phi index: 8 out of 18\n",
      "Energy minimized\n",
      "Simulating: 99.500000%  [==================================================X]Sampling at psi index: 1 out of 18, \n",
      "         at phi index: 8 out of 18\n",
      "Energy minimized\n",
      "Simulating: 99.500000%  [==================================================X]Sampling at psi index: 2 out of 18, \n",
      "         at phi index: 8 out of 18\n",
      "Energy minimized\n",
      "Simulating: 99.500000%  [==================================================X]Sampling at psi index: 3 out of 18, \n",
      "         at phi index: 8 out of 18\n",
      "Energy minimized\n"
     ]
    },
    {
     "name": "stdout",
     "output_type": "stream",
     "text": [
      "Simulating: 99.500000%  [==================================================X]Sampling at psi index: 4 out of 18, \n",
      "         at phi index: 8 out of 18\n",
      "Energy minimized\n",
      "Simulating: 99.500000%  [==================================================X]Sampling at psi index: 5 out of 18, \n",
      "         at phi index: 8 out of 18\n",
      "Energy minimized\n",
      "Simulating: 99.500000%  [==================================================X]Sampling at psi index: 6 out of 18, \n",
      "         at phi index: 8 out of 18\n",
      "Energy minimized\n",
      "Simulating: 99.500000%  [==================================================X]Sampling at psi index: 7 out of 18, \n",
      "         at phi index: 8 out of 18\n",
      "Energy minimized\n",
      "Simulating: 99.500000%  [==================================================X]Sampling at psi index: 8 out of 18, \n",
      "         at phi index: 8 out of 18\n",
      "Energy minimized\n",
      "Simulating: 99.500000%  [==================================================X]Sampling at psi index: 9 out of 18, \n",
      "         at phi index: 8 out of 18\n",
      "Energy minimized\n",
      "Simulating: 99.500000%  [==================================================X]Sampling at psi index: 10 out of 18, \n",
      "         at phi index: 8 out of 18\n",
      "Energy minimized\n",
      "Simulating: 99.500000%  [==================================================X]Sampling at psi index: 11 out of 18, \n",
      "         at phi index: 8 out of 18\n",
      "Energy minimized\n",
      "Simulating: 99.500000%  [==================================================X]Sampling at psi index: 12 out of 18, \n",
      "         at phi index: 8 out of 18\n",
      "Energy minimized\n",
      "Simulating: 99.500000%  [==================================================X]Sampling at psi index: 13 out of 18, \n",
      "         at phi index: 8 out of 18\n",
      "Energy minimized\n",
      "Simulating: 99.500000%  [==================================================X]Sampling at psi index: 14 out of 18, \n",
      "         at phi index: 8 out of 18\n",
      "Energy minimized\n",
      "Simulating: 99.500000%  [==================================================X]Sampling at psi index: 15 out of 18, \n",
      "         at phi index: 8 out of 18\n",
      "Energy minimized\n",
      "Simulating: 99.500000%  [==================================================X]Sampling at psi index: 16 out of 18, \n",
      "         at phi index: 8 out of 18\n",
      "Energy minimized\n",
      "Simulating: 99.500000%  [==================================================X]Sampling at psi index: 17 out of 18, \n",
      "         at phi index: 8 out of 18\n",
      "Energy minimized\n",
      "Simulating: 99.500000%  [==================================================X]Sampling at psi index: 0 out of 18, \n",
      "         at phi index: 9 out of 18\n",
      "Energy minimized\n",
      "Simulating: 99.500000%  [==================================================X]Sampling at psi index: 1 out of 18, \n",
      "         at phi index: 9 out of 18\n",
      "Energy minimized\n",
      "Simulating: 99.500000%  [==================================================X]Sampling at psi index: 2 out of 18, \n",
      "         at phi index: 9 out of 18\n",
      "Energy minimized\n",
      "Simulating: 99.500000%  [==================================================X]Sampling at psi index: 3 out of 18, \n",
      "         at phi index: 9 out of 18\n",
      "Energy minimized\n",
      "Simulating: 99.500000%  [==================================================X]Sampling at psi index: 4 out of 18, \n",
      "         at phi index: 9 out of 18\n",
      "Energy minimized\n",
      "Simulating: 99.500000%  [==================================================X]Sampling at psi index: 5 out of 18, \n",
      "         at phi index: 9 out of 18\n",
      "Energy minimized\n",
      "Simulating: 99.500000%  [==================================================X]Sampling at psi index: 6 out of 18, \n",
      "         at phi index: 9 out of 18\n",
      "Energy minimized\n",
      "Simulating: 99.500000%  [==================================================X]Sampling at psi index: 7 out of 18, \n",
      "         at phi index: 9 out of 18\n",
      "Energy minimized\n",
      "Simulating: 99.500000%  [==================================================X]Sampling at psi index: 8 out of 18, \n",
      "         at phi index: 9 out of 18\n",
      "Energy minimized\n",
      "Simulating: 99.500000%  [==================================================X]Sampling at psi index: 9 out of 18, \n",
      "         at phi index: 9 out of 18\n",
      "Energy minimized\n",
      "Simulating: 99.500000%  [==================================================X]Sampling at psi index: 10 out of 18, \n",
      "         at phi index: 9 out of 18\n",
      "Energy minimized\n",
      "Simulating: 99.500000%  [==================================================X]Sampling at psi index: 11 out of 18, \n",
      "         at phi index: 9 out of 18\n",
      "Energy minimized\n",
      "Simulating: 99.500000%  [==================================================X]Sampling at psi index: 12 out of 18, \n",
      "         at phi index: 9 out of 18\n",
      "Energy minimized\n",
      "Simulating: 99.500000%  [==================================================X]Sampling at psi index: 13 out of 18, \n",
      "         at phi index: 9 out of 18\n",
      "Energy minimized\n",
      "Simulating: 99.500000%  [==================================================X]Sampling at psi index: 14 out of 18, \n",
      "         at phi index: 9 out of 18\n",
      "Energy minimized\n",
      "Simulating: 99.500000%  [==================================================X]Sampling at psi index: 15 out of 18, \n",
      "         at phi index: 9 out of 18\n",
      "Energy minimized\n",
      "Simulating: 99.500000%  [==================================================X]Sampling at psi index: 16 out of 18, \n",
      "         at phi index: 9 out of 18\n",
      "Energy minimized\n",
      "Simulating: 99.500000%  [==================================================X]Sampling at psi index: 17 out of 18, \n",
      "         at phi index: 9 out of 18\n",
      "Energy minimized\n",
      "Simulating: 99.500000%  [==================================================X]Sampling at psi index: 0 out of 18, \n",
      "         at phi index: 10 out of 18\n",
      "Energy minimized\n",
      "Simulating: 99.500000%  [==================================================X]Sampling at psi index: 1 out of 18, \n",
      "         at phi index: 10 out of 18\n",
      "Energy minimized\n",
      "Simulating: 99.500000%  [==================================================X]Sampling at psi index: 2 out of 18, \n",
      "         at phi index: 10 out of 18\n",
      "Energy minimized\n",
      "Simulating: 99.500000%  [==================================================X]Sampling at psi index: 3 out of 18, \n",
      "         at phi index: 10 out of 18\n",
      "Energy minimized\n",
      "Simulating: 99.500000%  [==================================================X]Sampling at psi index: 4 out of 18, \n",
      "         at phi index: 10 out of 18\n",
      "Energy minimized\n",
      "Simulating: 99.500000%  [==================================================X]Sampling at psi index: 5 out of 18, \n",
      "         at phi index: 10 out of 18\n",
      "Energy minimized\n",
      "Simulating: 99.500000%  [==================================================X]Sampling at psi index: 6 out of 18, \n",
      "         at phi index: 10 out of 18\n",
      "Energy minimized\n",
      "Simulating: 99.500000%  [==================================================X]Sampling at psi index: 7 out of 18, \n",
      "         at phi index: 10 out of 18\n",
      "Energy minimized\n",
      "Simulating: 99.500000%  [==================================================X]Sampling at psi index: 8 out of 18, \n",
      "         at phi index: 10 out of 18\n",
      "Energy minimized\n",
      "Simulating: 99.500000%  [==================================================X]Sampling at psi index: 9 out of 18, \n",
      "         at phi index: 10 out of 18\n",
      "Energy minimized\n",
      "Simulating: 99.500000%  [==================================================X]Sampling at psi index: 10 out of 18, \n",
      "         at phi index: 10 out of 18\n",
      "Energy minimized\n",
      "Simulating: 99.500000%  [==================================================X]Sampling at psi index: 11 out of 18, \n",
      "         at phi index: 10 out of 18\n",
      "Energy minimized\n",
      "Simulating: 99.500000%  [==================================================X]Sampling at psi index: 12 out of 18, \n",
      "         at phi index: 10 out of 18\n",
      "Energy minimized\n",
      "Simulating: 99.500000%  [==================================================X]Sampling at psi index: 13 out of 18, \n",
      "         at phi index: 10 out of 18\n",
      "Energy minimized\n",
      "Simulating: 99.500000%  [==================================================X]Sampling at psi index: 14 out of 18, \n",
      "         at phi index: 10 out of 18\n",
      "Energy minimized\n",
      "Simulating: 99.500000%  [==================================================X]Sampling at psi index: 15 out of 18, \n",
      "         at phi index: 10 out of 18\n",
      "Energy minimized\n",
      "Simulating: 99.500000%  [==================================================X]Sampling at psi index: 16 out of 18, \n",
      "         at phi index: 10 out of 18\n",
      "Energy minimized\n",
      "Simulating: 99.500000%  [==================================================X]Sampling at psi index: 17 out of 18, \n",
      "         at phi index: 10 out of 18\n",
      "Energy minimized\n",
      "Simulating: 99.500000%  [==================================================X]Sampling at psi index: 0 out of 18, \n",
      "         at phi index: 11 out of 18\n",
      "Energy minimized\n",
      "Simulating: 99.500000%  [==================================================X]Sampling at psi index: 1 out of 18, \n",
      "         at phi index: 11 out of 18\n",
      "Energy minimized\n",
      "Simulating: 99.500000%  [==================================================X]Sampling at psi index: 2 out of 18, \n",
      "         at phi index: 11 out of 18\n",
      "Energy minimized\n",
      "Simulating: 99.500000%  [==================================================X]Sampling at psi index: 3 out of 18, \n",
      "         at phi index: 11 out of 18\n",
      "Energy minimized\n",
      "Simulating: 99.500000%  [==================================================X]Sampling at psi index: 4 out of 18, \n",
      "         at phi index: 11 out of 18\n",
      "Energy minimized\n",
      "Simulating: 99.500000%  [==================================================X]Sampling at psi index: 5 out of 18, \n",
      "         at phi index: 11 out of 18\n",
      "Energy minimized\n",
      "Simulating: 99.500000%  [==================================================X]Sampling at psi index: 6 out of 18, \n",
      "         at phi index: 11 out of 18\n",
      "Energy minimized\n",
      "Simulating: 99.500000%  [==================================================X]Sampling at psi index: 7 out of 18, \n",
      "         at phi index: 11 out of 18\n",
      "Energy minimized\n",
      "Simulating: 99.500000%  [==================================================X]Sampling at psi index: 8 out of 18, \n",
      "         at phi index: 11 out of 18\n",
      "Energy minimized\n",
      "Simulating: 99.500000%  [==================================================X]Sampling at psi index: 9 out of 18, \n",
      "         at phi index: 11 out of 18\n",
      "Energy minimized\n",
      "Simulating: 99.500000%  [==================================================X]Sampling at psi index: 10 out of 18, \n",
      "         at phi index: 11 out of 18\n",
      "Energy minimized\n",
      "Simulating: 99.500000%  [==================================================X]Sampling at psi index: 11 out of 18, \n",
      "         at phi index: 11 out of 18\n",
      "Energy minimized\n",
      "Simulating: 99.500000%  [==================================================X]Sampling at psi index: 12 out of 18, \n",
      "         at phi index: 11 out of 18\n",
      "Energy minimized\n",
      "Simulating: 99.500000%  [==================================================X]Sampling at psi index: 13 out of 18, \n",
      "         at phi index: 11 out of 18\n",
      "Energy minimized\n",
      "Simulating: 99.500000%  [==================================================X]Sampling at psi index: 14 out of 18, \n",
      "         at phi index: 11 out of 18\n",
      "Energy minimized\n",
      "Simulating: 99.500000%  [==================================================X]Sampling at psi index: 15 out of 18, \n",
      "         at phi index: 11 out of 18\n",
      "Energy minimized\n",
      "Simulating: 99.500000%  [==================================================X]Sampling at psi index: 16 out of 18, \n",
      "         at phi index: 11 out of 18\n",
      "Energy minimized\n",
      "Simulating: 99.500000%  [==================================================X]Sampling at psi index: 17 out of 18, \n",
      "         at phi index: 11 out of 18\n",
      "Energy minimized\n",
      "Simulating: 99.500000%  [==================================================X]Sampling at psi index: 0 out of 18, \n",
      "         at phi index: 12 out of 18\n",
      "Energy minimized\n",
      "Simulating: 99.500000%  [==================================================X]Sampling at psi index: 1 out of 18, \n",
      "         at phi index: 12 out of 18\n",
      "Energy minimized\n",
      "Simulating: 99.500000%  [==================================================X]Sampling at psi index: 2 out of 18, \n",
      "         at phi index: 12 out of 18\n",
      "Energy minimized\n",
      "Simulating: 99.500000%  [==================================================X]Sampling at psi index: 3 out of 18, \n",
      "         at phi index: 12 out of 18\n",
      "Energy minimized\n",
      "Simulating: 99.500000%  [==================================================X]Sampling at psi index: 4 out of 18, \n",
      "         at phi index: 12 out of 18\n",
      "Energy minimized\n",
      "Simulating: 99.500000%  [==================================================X]Sampling at psi index: 5 out of 18, \n",
      "         at phi index: 12 out of 18\n",
      "Energy minimized\n",
      "Simulating: 99.500000%  [==================================================X]Sampling at psi index: 6 out of 18, \n",
      "         at phi index: 12 out of 18\n",
      "Energy minimized\n",
      "Simulating: 99.500000%  [==================================================X]Sampling at psi index: 7 out of 18, \n",
      "         at phi index: 12 out of 18\n",
      "Energy minimized\n",
      "Simulating: 99.500000%  [==================================================X]Sampling at psi index: 8 out of 18, \n",
      "         at phi index: 12 out of 18\n",
      "Energy minimized\n",
      "Simulating: 99.500000%  [==================================================X]Sampling at psi index: 9 out of 18, \n",
      "         at phi index: 12 out of 18\n",
      "Energy minimized\n",
      "Simulating: 99.500000%  [==================================================X]Sampling at psi index: 10 out of 18, \n",
      "         at phi index: 12 out of 18\n",
      "Energy minimized\n",
      "Simulating: 99.500000%  [==================================================X]Sampling at psi index: 11 out of 18, \n",
      "         at phi index: 12 out of 18\n",
      "Energy minimized\n",
      "Simulating: 99.500000%  [==================================================X]Sampling at psi index: 12 out of 18, \n",
      "         at phi index: 12 out of 18\n",
      "Energy minimized\n",
      "Simulating: 99.500000%  [==================================================X]Sampling at psi index: 13 out of 18, \n",
      "         at phi index: 12 out of 18\n",
      "Energy minimized\n",
      "Simulating: 99.500000%  [==================================================X]Sampling at psi index: 14 out of 18, \n",
      "         at phi index: 12 out of 18\n",
      "Energy minimized\n",
      "Simulating: 99.500000%  [==================================================X]Sampling at psi index: 15 out of 18, \n",
      "         at phi index: 12 out of 18\n",
      "Energy minimized\n",
      "Simulating: 99.500000%  [==================================================X]Sampling at psi index: 16 out of 18, \n",
      "         at phi index: 12 out of 18\n",
      "Energy minimized\n",
      "Simulating: 99.500000%  [==================================================X]Sampling at psi index: 17 out of 18, \n",
      "         at phi index: 12 out of 18\n",
      "Energy minimized\n",
      "Simulating: 99.500000%  [==================================================X]Sampling at psi index: 0 out of 18, \n",
      "         at phi index: 13 out of 18\n",
      "Energy minimized\n",
      "Simulating: 99.500000%  [==================================================X]Sampling at psi index: 1 out of 18, \n",
      "         at phi index: 13 out of 18\n",
      "Energy minimized\n",
      "Simulating: 99.500000%  [==================================================X]Sampling at psi index: 2 out of 18, \n",
      "         at phi index: 13 out of 18\n",
      "Energy minimized\n",
      "Simulating: 99.500000%  [==================================================X]Sampling at psi index: 3 out of 18, \n",
      "         at phi index: 13 out of 18\n",
      "Energy minimized\n",
      "Simulating: 99.500000%  [==================================================X]Sampling at psi index: 4 out of 18, \n",
      "         at phi index: 13 out of 18\n",
      "Energy minimized\n",
      "Simulating: 99.500000%  [==================================================X]Sampling at psi index: 5 out of 18, \n",
      "         at phi index: 13 out of 18\n",
      "Energy minimized\n",
      "Simulating: 99.500000%  [==================================================X]Sampling at psi index: 6 out of 18, \n",
      "         at phi index: 13 out of 18\n",
      "Energy minimized\n",
      "Simulating: 99.500000%  [==================================================X]Sampling at psi index: 7 out of 18, \n",
      "         at phi index: 13 out of 18\n",
      "Energy minimized\n",
      "Simulating: 99.500000%  [==================================================X]Sampling at psi index: 8 out of 18, \n",
      "         at phi index: 13 out of 18\n",
      "Energy minimized\n",
      "Simulating: 99.500000%  [==================================================X]Sampling at psi index: 9 out of 18, \n",
      "         at phi index: 13 out of 18\n",
      "Energy minimized\n",
      "Simulating: 99.500000%  [==================================================X]Sampling at psi index: 10 out of 18, \n",
      "         at phi index: 13 out of 18\n",
      "Energy minimized\n",
      "Simulating: 99.500000%  [==================================================X]Sampling at psi index: 11 out of 18, \n",
      "         at phi index: 13 out of 18\n",
      "Energy minimized\n"
     ]
    },
    {
     "name": "stdout",
     "output_type": "stream",
     "text": [
      "Simulating: 99.500000%  [==================================================X]Sampling at psi index: 12 out of 18, \n",
      "         at phi index: 13 out of 18\n",
      "Energy minimized\n",
      "Simulating: 99.500000%  [==================================================X]Sampling at psi index: 13 out of 18, \n",
      "         at phi index: 13 out of 18\n",
      "Energy minimized\n",
      "Simulating: 99.500000%  [==================================================X]Sampling at psi index: 14 out of 18, \n",
      "         at phi index: 13 out of 18\n",
      "Energy minimized\n",
      "Simulating: 99.500000%  [==================================================X]Sampling at psi index: 15 out of 18, \n",
      "         at phi index: 13 out of 18\n",
      "Energy minimized\n",
      "Simulating: 99.500000%  [==================================================X]Sampling at psi index: 16 out of 18, \n",
      "         at phi index: 13 out of 18\n",
      "Energy minimized\n",
      "Simulating: 99.500000%  [==================================================X]Sampling at psi index: 17 out of 18, \n",
      "         at phi index: 13 out of 18\n",
      "Energy minimized\n",
      "Simulating: 99.500000%  [==================================================X]Sampling at psi index: 0 out of 18, \n",
      "         at phi index: 14 out of 18\n",
      "Energy minimized\n",
      "Simulating: 99.500000%  [==================================================X]Sampling at psi index: 1 out of 18, \n",
      "         at phi index: 14 out of 18\n",
      "Energy minimized\n",
      "Simulating: 99.500000%  [==================================================X]Sampling at psi index: 2 out of 18, \n",
      "         at phi index: 14 out of 18\n",
      "Energy minimized\n",
      "Simulating: 99.500000%  [==================================================X]Sampling at psi index: 3 out of 18, \n",
      "         at phi index: 14 out of 18\n",
      "Energy minimized\n",
      "Simulating: 99.500000%  [==================================================X]Sampling at psi index: 4 out of 18, \n",
      "         at phi index: 14 out of 18\n",
      "Energy minimized\n",
      "Simulating: 99.500000%  [==================================================X]Sampling at psi index: 5 out of 18, \n",
      "         at phi index: 14 out of 18\n",
      "Energy minimized\n",
      "Simulating: 99.500000%  [==================================================X]Sampling at psi index: 6 out of 18, \n",
      "         at phi index: 14 out of 18\n",
      "Energy minimized\n",
      "Simulating: 99.500000%  [==================================================X]Sampling at psi index: 7 out of 18, \n",
      "         at phi index: 14 out of 18\n",
      "Energy minimized\n",
      "Simulating: 99.500000%  [==================================================X]Sampling at psi index: 8 out of 18, \n",
      "         at phi index: 14 out of 18\n",
      "Energy minimized\n",
      "Simulating: 99.500000%  [==================================================X]Sampling at psi index: 9 out of 18, \n",
      "         at phi index: 14 out of 18\n",
      "Energy minimized\n",
      "Simulating: 99.500000%  [==================================================X]Sampling at psi index: 10 out of 18, \n",
      "         at phi index: 14 out of 18\n",
      "Energy minimized\n",
      "Simulating: 99.500000%  [==================================================X]Sampling at psi index: 11 out of 18, \n",
      "         at phi index: 14 out of 18\n",
      "Energy minimized\n",
      "Simulating: 99.500000%  [==================================================X]Sampling at psi index: 12 out of 18, \n",
      "         at phi index: 14 out of 18\n",
      "Energy minimized\n",
      "Simulating: 99.500000%  [==================================================X]Sampling at psi index: 13 out of 18, \n",
      "         at phi index: 14 out of 18\n",
      "Energy minimized\n",
      "Simulating: 99.500000%  [==================================================X]Sampling at psi index: 14 out of 18, \n",
      "         at phi index: 14 out of 18\n",
      "Energy minimized\n",
      "Simulating: 99.500000%  [==================================================X]Sampling at psi index: 15 out of 18, \n",
      "         at phi index: 14 out of 18\n",
      "Energy minimized\n",
      "Simulating: 99.500000%  [==================================================X]Sampling at psi index: 16 out of 18, \n",
      "         at phi index: 14 out of 18\n",
      "Energy minimized\n",
      "Simulating: 99.500000%  [==================================================X]Sampling at psi index: 17 out of 18, \n",
      "         at phi index: 14 out of 18\n",
      "Energy minimized\n",
      "Simulating: 99.500000%  [==================================================X]Sampling at psi index: 0 out of 18, \n",
      "         at phi index: 15 out of 18\n",
      "Energy minimized\n",
      "Simulating: 99.500000%  [==================================================X]Sampling at psi index: 1 out of 18, \n",
      "         at phi index: 15 out of 18\n",
      "Energy minimized\n",
      "Simulating: 99.500000%  [==================================================X]Sampling at psi index: 2 out of 18, \n",
      "         at phi index: 15 out of 18\n",
      "Energy minimized\n",
      "Simulating: 99.500000%  [==================================================X]Sampling at psi index: 3 out of 18, \n",
      "         at phi index: 15 out of 18\n",
      "Energy minimized\n",
      "Simulating: 99.500000%  [==================================================X]Sampling at psi index: 4 out of 18, \n",
      "         at phi index: 15 out of 18\n",
      "Energy minimized\n",
      "Simulating: 99.500000%  [==================================================X]Sampling at psi index: 5 out of 18, \n",
      "         at phi index: 15 out of 18\n",
      "Energy minimized\n",
      "Simulating: 99.500000%  [==================================================X]Sampling at psi index: 6 out of 18, \n",
      "         at phi index: 15 out of 18\n",
      "Energy minimized\n",
      "Simulating: 99.500000%  [==================================================X]Sampling at psi index: 7 out of 18, \n",
      "         at phi index: 15 out of 18\n",
      "Energy minimized\n",
      "Simulating: 99.500000%  [==================================================X]Sampling at psi index: 8 out of 18, \n",
      "         at phi index: 15 out of 18\n",
      "Energy minimized\n",
      "Simulating: 99.500000%  [==================================================X]Sampling at psi index: 9 out of 18, \n",
      "         at phi index: 15 out of 18\n",
      "Energy minimized\n",
      "Simulating: 99.500000%  [==================================================X]Sampling at psi index: 10 out of 18, \n",
      "         at phi index: 15 out of 18\n",
      "Energy minimized\n",
      "Simulating: 99.500000%  [==================================================X]Sampling at psi index: 11 out of 18, \n",
      "         at phi index: 15 out of 18\n",
      "Energy minimized\n",
      "Simulating: 99.500000%  [==================================================X]Sampling at psi index: 12 out of 18, \n",
      "         at phi index: 15 out of 18\n",
      "Energy minimized\n",
      "Simulating: 99.500000%  [==================================================X]Sampling at psi index: 13 out of 18, \n",
      "         at phi index: 15 out of 18\n",
      "Energy minimized\n",
      "Simulating: 99.500000%  [==================================================X]Sampling at psi index: 14 out of 18, \n",
      "         at phi index: 15 out of 18\n",
      "Energy minimized\n",
      "Simulating: 99.500000%  [==================================================X]Sampling at psi index: 15 out of 18, \n",
      "         at phi index: 15 out of 18\n",
      "Energy minimized\n",
      "Simulating: 99.500000%  [==================================================X]Sampling at psi index: 16 out of 18, \n",
      "         at phi index: 15 out of 18\n",
      "Energy minimized\n",
      "Simulating: 99.500000%  [==================================================X]Sampling at psi index: 17 out of 18, \n",
      "         at phi index: 15 out of 18\n",
      "Energy minimized\n",
      "Simulating: 99.500000%  [==================================================X]Sampling at psi index: 0 out of 18, \n",
      "         at phi index: 16 out of 18\n",
      "Energy minimized\n",
      "Simulating: 99.500000%  [==================================================X]Sampling at psi index: 1 out of 18, \n",
      "         at phi index: 16 out of 18\n",
      "Energy minimized\n",
      "Simulating: 99.500000%  [==================================================X]Sampling at psi index: 2 out of 18, \n",
      "         at phi index: 16 out of 18\n",
      "Energy minimized\n",
      "Simulating: 99.500000%  [==================================================X]Sampling at psi index: 3 out of 18, \n",
      "         at phi index: 16 out of 18\n",
      "Energy minimized\n",
      "Simulating: 99.500000%  [==================================================X]Sampling at psi index: 4 out of 18, \n",
      "         at phi index: 16 out of 18\n",
      "Energy minimized\n",
      "Simulating: 99.500000%  [==================================================X]Sampling at psi index: 5 out of 18, \n",
      "         at phi index: 16 out of 18\n",
      "Energy minimized\n",
      "Simulating: 99.500000%  [==================================================X]Sampling at psi index: 6 out of 18, \n",
      "         at phi index: 16 out of 18\n",
      "Energy minimized\n"
     ]
    },
    {
     "name": "stdout",
     "output_type": "stream",
     "text": [
      "Simulating: 99.500000%  [==================================================X]Sampling at psi index: 7 out of 18, \n",
      "         at phi index: 16 out of 18\n",
      "Energy minimized\n",
      "Simulating: 99.500000%  [==================================================X]Sampling at psi index: 8 out of 18, \n",
      "         at phi index: 16 out of 18\n",
      "Energy minimized\n",
      "Simulating: 99.500000%  [==================================================X]Sampling at psi index: 9 out of 18, \n",
      "         at phi index: 16 out of 18\n",
      "Energy minimized\n",
      "Simulating: 99.500000%  [==================================================X]Sampling at psi index: 10 out of 18, \n",
      "         at phi index: 16 out of 18\n",
      "Energy minimized\n",
      "Simulating: 99.500000%  [==================================================X]Sampling at psi index: 11 out of 18, \n",
      "         at phi index: 16 out of 18\n",
      "Energy minimized\n",
      "Simulating: 99.500000%  [==================================================X]Sampling at psi index: 12 out of 18, \n",
      "         at phi index: 16 out of 18\n",
      "Energy minimized\n",
      "Simulating: 99.500000%  [==================================================X]Sampling at psi index: 13 out of 18, \n",
      "         at phi index: 16 out of 18\n",
      "Energy minimized\n",
      "Simulating: 99.500000%  [==================================================X]Sampling at psi index: 14 out of 18, \n",
      "         at phi index: 16 out of 18\n",
      "Energy minimized\n",
      "Simulating: 99.500000%  [==================================================X]Sampling at psi index: 15 out of 18, \n",
      "         at phi index: 16 out of 18\n",
      "Energy minimized\n",
      "Simulating: 99.500000%  [==================================================X]Sampling at psi index: 16 out of 18, \n",
      "         at phi index: 16 out of 18\n",
      "Energy minimized\n",
      "Simulating: 99.500000%  [==================================================X]Sampling at psi index: 17 out of 18, \n",
      "         at phi index: 16 out of 18\n",
      "Energy minimized\n",
      "Simulating: 99.500000%  [==================================================X]Sampling at psi index: 0 out of 18, \n",
      "         at phi index: 17 out of 18\n",
      "Energy minimized\n",
      "Simulating: 99.500000%  [==================================================X]Sampling at psi index: 1 out of 18, \n",
      "         at phi index: 17 out of 18\n",
      "Energy minimized\n",
      "Simulating: 99.500000%  [==================================================X]Sampling at psi index: 2 out of 18, \n",
      "         at phi index: 17 out of 18\n",
      "Energy minimized\n",
      "Simulating: 99.500000%  [==================================================X]Sampling at psi index: 3 out of 18, \n",
      "         at phi index: 17 out of 18\n",
      "Energy minimized\n",
      "Simulating: 99.500000%  [==================================================X]Sampling at psi index: 4 out of 18, \n",
      "         at phi index: 17 out of 18\n",
      "Energy minimized\n",
      "Simulating: 99.500000%  [==================================================X]Sampling at psi index: 5 out of 18, \n",
      "         at phi index: 17 out of 18\n",
      "Energy minimized\n",
      "Simulating: 99.500000%  [==================================================X]Sampling at psi index: 6 out of 18, \n",
      "         at phi index: 17 out of 18\n",
      "Energy minimized\n",
      "Simulating: 99.500000%  [==================================================X]Sampling at psi index: 7 out of 18, \n",
      "         at phi index: 17 out of 18\n",
      "Energy minimized\n",
      "Simulating: 99.500000%  [==================================================X]Sampling at psi index: 8 out of 18, \n",
      "         at phi index: 17 out of 18\n",
      "Energy minimized\n",
      "Simulating: 99.500000%  [==================================================X]Sampling at psi index: 9 out of 18, \n",
      "         at phi index: 17 out of 18\n",
      "Energy minimized\n",
      "Simulating: 99.500000%  [==================================================X]Sampling at psi index: 10 out of 18, \n",
      "         at phi index: 17 out of 18\n",
      "Energy minimized\n",
      "Simulating: 99.500000%  [==================================================X]Sampling at psi index: 11 out of 18, \n",
      "         at phi index: 17 out of 18\n",
      "Energy minimized\n",
      "Simulating: 99.500000%  [==================================================X]Sampling at psi index: 12 out of 18, \n",
      "         at phi index: 17 out of 18\n",
      "Energy minimized\n",
      "Simulating: 99.500000%  [==================================================X]Sampling at psi index: 13 out of 18, \n",
      "         at phi index: 17 out of 18\n",
      "Energy minimized\n",
      "Simulating: 99.500000%  [==================================================X]Sampling at psi index: 14 out of 18, \n",
      "         at phi index: 17 out of 18\n",
      "Energy minimized\n",
      "Simulating: 99.500000%  [==================================================X]Sampling at psi index: 15 out of 18, \n",
      "         at phi index: 17 out of 18\n",
      "Energy minimized\n",
      "Simulating: 99.500000%  [==================================================X]Sampling at psi index: 16 out of 18, \n",
      "         at phi index: 17 out of 18\n",
      "Energy minimized\n",
      "Simulating: 99.500000%  [==================================================X]Sampling at psi index: 17 out of 18, \n",
      "         at phi index: 17 out of 18\n",
      "Energy minimized\n",
      "Simulating: 99.500000%  [==================================================X]"
     ]
    }
   ],
   "source": [
    "for idx in range(total_windows):\n",
    "    psi_index=idx%n_windows\n",
    "    phi_index=idx//n_windows\n",
    "    \n",
    "    print(f\"Sampling at psi index: {psi_index} out of {n_windows}, \\n         at phi index: {phi_index} out of {n_windows}\")\n",
    "    \n",
    "    #setting parameters of the biasing potential\n",
    "    simulation.context.setParameter(\"psi\", psi[psi_index])\n",
    "    simulation.context.setParameter(\"phi\", phi[phi_index])\n",
    "    \n",
    "    ## minimizing\n",
    "    simulation.minimizeEnergy()\n",
    "    print(\"Energy minimized\")\n",
    "    \n",
    "    #relaxing system\n",
    "    simulation.step(equil_steps)\n",
    "    \n",
    "    for loop in range(last_chk,loops):\n",
    "        forces_list = []\n",
    "        position_list = []\n",
    "        energies = []\n",
    "        for ix in range(n_steps):\n",
    "            forces_list.append([])\n",
    "            position_list.append([])\n",
    "            forces = simulation.context.getState(getForces=True).getForces(asNumpy=True)[atom_list]\n",
    "            forces = forces.value_in_unit(unit.kilocalorie_per_mole/unit.angstrom)\n",
    "            position = simulation.context.getState(getPositions=True,enforcePeriodicBox=True).getPositions(asNumpy=True)[atom_list]\n",
    "            position = position.value_in_unit(unit.angstrom)\n",
    "            energy = simulation.context.getState(getEnergy=True).getPotentialEnergy()\n",
    "            energy = energy.value_in_unit(unit.kilocalorie_per_mole)\n",
    "\n",
    "            forces_list[-1].append(forces)\n",
    "            position_list[-1].append(position)\n",
    "            energies.append(energy)\n",
    "            simulation.step(step_size)\n",
    "            percentageBar=percentageString((ix+(loop*n_steps)),(n_steps*loops-1),50)\n",
    "            print(\"\\rSimulating: {:.06f}%  {}\".format((ix+(loop*n_steps))/(n_steps*loops)*100,percentageBar), end=\"\")\n",
    "\n",
    "        with open('{}/{}-phi-{}-psi-{}-loop-{}-checkpoint.chk'.format(resultsdir,name, phi_index, psi_index, loop), 'wb') as f:\n",
    "            f.write(simulation.context.createCheckpoint())\n",
    "\n",
    "        forces = np.concatenate(forces_list,axis=0)\n",
    "        positions = np.concatenate(position_list,axis=0)\n",
    "        np.save('{}/{}-phi-{}-psi-{}-loop-{}-forces.npy'.format(resultsdir,name, phi_index, psi_index, loop),forces)\n",
    "        np.save('{}/{}-phi-{}-psi-{}-loop-{}-coords.npy'.format(resultsdir,name, phi_index, psi_index, loop),positions)\n",
    "        np.save('{}/{}-phi-{}-psi-{}-loop-{}-energy.npy'.format(resultsdir,name, phi_index, psi_index, loop),energies)\n",
    "    crd = simulation.context.getState(getPositions=True, enforcePeriodicBox=True).getPositions()\n",
    "    pdb.writeFile(topology, crd, open(resultsdir+'/{}-phi-{}-psi{}-run-{}.pdb'.format(name,phi_index, psi_index, run), 'w'))\n"
   ]
  },
  {
   "cell_type": "code",
   "execution_count": null,
   "id": "44097234",
   "metadata": {
    "ExecuteTime": {
     "start_time": "2023-01-10T11:32:16.884Z"
    }
   },
   "outputs": [],
   "source": [
    "#Save the bias potential base angles\n",
    "np.save('{}/{}-psi-bias.npy'.format(resultsdir,name),psi)\n",
    "np.save('{}/{}-phi-bias.npy'.format(resultsdir,name),phi)"
   ]
  },
  {
   "cell_type": "code",
   "execution_count": null,
   "id": "9f9fd960",
   "metadata": {
    "ExecuteTime": {
     "start_time": "2023-01-10T00:51:48.352Z"
    },
    "code_folding": []
   },
   "outputs": [],
   "source": [
    "crd = simulation.context.getState(getPositions=True, enforcePeriodicBox=True).getPositions()\n",
    "pdb.writeFile(topology, crd, open(resultsdir+'/{}-run-{}.pdb'.format(name,run), 'w'))\n"
   ]
  },
  {
   "cell_type": "code",
   "execution_count": null,
   "id": "ecdfb6f3",
   "metadata": {
    "ExecuteTime": {
     "start_time": "2023-01-09T23:18:12.239Z"
    }
   },
   "outputs": [],
   "source": [
    "with open('{}/{}-{}-checkpoint.chk'.format(resultsdir,name, last_chk), 'rb') as f:\n",
    "        simulation.context.loadCheckpoint(f.read())"
   ]
  }
 ],
 "metadata": {
  "kernelspec": {
   "display_name": "Python 3",
   "language": "python",
   "name": "python3"
  },
  "language_info": {
   "codemirror_mode": {
    "name": "ipython",
    "version": 3
   },
   "file_extension": ".py",
   "mimetype": "text/x-python",
   "name": "python",
   "nbconvert_exporter": "python",
   "pygments_lexer": "ipython3",
   "version": "3.6.15"
  },
  "latex_envs": {
   "LaTeX_envs_menu_present": true,
   "autoclose": false,
   "autocomplete": true,
   "bibliofile": "biblio.bib",
   "cite_by": "apalike",
   "current_citInitial": 1,
   "eqLabelWithNumbers": true,
   "eqNumInitial": 1,
   "hotkeys": {
    "equation": "Ctrl-E",
    "itemize": "Ctrl-I"
   },
   "labels_anchors": false,
   "latex_user_defs": false,
   "report_style_numbering": false,
   "user_envs_cfg": false
  }
 },
 "nbformat": 4,
 "nbformat_minor": 5
}
