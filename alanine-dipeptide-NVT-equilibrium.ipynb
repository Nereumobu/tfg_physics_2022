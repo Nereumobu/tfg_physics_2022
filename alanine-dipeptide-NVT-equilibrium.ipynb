{
 "cells": [
  {
   "cell_type": "code",
   "execution_count": 3,
   "id": "b1ef7da0",
   "metadata": {
    "ExecuteTime": {
     "end_time": "2023-01-08T09:32:45.322443Z",
     "start_time": "2023-01-08T09:32:45.302487Z"
    }
   },
   "outputs": [],
   "source": [
    "import numpy as np\n",
    "import simtk.openmm as mm\n",
    "import simtk.openmm.app as app\n",
    "from simtk.openmm import unit\n",
    "from simtk.openmm.openmm import NonbondedForce\n",
    "import os\n",
    "from openmmtools.testsystems import AlanineDipeptideExplicit\n",
    "import sys"
   ]
  },
  {
   "cell_type": "code",
   "execution_count": 20,
   "id": "a276f0e9",
   "metadata": {
    "ExecuteTime": {
     "end_time": "2023-01-08T09:37:17.580082Z",
     "start_time": "2023-01-08T09:37:17.570079Z"
    }
   },
   "outputs": [],
   "source": [
    "def percentageString(progress, total, divisions):\n",
    "    length=total/divisions\n",
    "    stage=int(progress//length)\n",
    "    token=\">\"\n",
    "    if divisions==stage:\n",
    "        token=\"X\"\n",
    "    if divisions-stage<0:\n",
    "        return \"Overcompletion!\"\n",
    "    return \"[\"+\"=\"*stage+token+\" \"*(divisions-stage)+\"]\""
   ]
  },
  {
   "cell_type": "code",
   "execution_count": 21,
   "id": "2edbfb02",
   "metadata": {
    "ExecuteTime": {
     "end_time": "2023-01-08T09:37:18.818247Z",
     "start_time": "2023-01-08T09:37:18.800161Z"
    }
   },
   "outputs": [],
   "source": [
    "name=\"alad-015M-15A\"\n",
    "run=\"NOCHARMM-NVT\"\n",
    "resultsdir=\"results/\"+\"{}-run-{}\".format(name,run)\n",
    "if not os.path.exists(resultsdir):\n",
    "    os.mkdir(resultsdir)\n",
    "    print(\"done\")"
   ]
  },
  {
   "cell_type": "code",
   "execution_count": 22,
   "id": "5f9b51ea",
   "metadata": {
    "ExecuteTime": {
     "end_time": "2023-01-08T09:37:19.051374Z",
     "start_time": "2023-01-08T09:37:19.031275Z"
    }
   },
   "outputs": [],
   "source": [
    "constraints = app.HBonds\n",
    "nonbonded_cutoff = 1.0*unit.nanometer\n",
    "switch_distance = 0.8*unit.nanometer\n",
    "nonbonded_method = app.PME\n",
    "implicit_solvent = False\n",
    "solvated = True\n",
    "hydrogen_mass = None"
   ]
  },
  {
   "cell_type": "code",
   "execution_count": 23,
   "id": "c3c23601",
   "metadata": {
    "ExecuteTime": {
     "end_time": "2023-01-08T09:37:19.283096Z",
     "start_time": "2023-01-08T09:37:19.265083Z"
    }
   },
   "outputs": [],
   "source": [
    "friction = 1.0 / unit.picoseconds\n",
    "pressure = 1.0 * unit.atmosphere\n",
    "initial_temperature = 2*unit.kelvin\n",
    "final_temperature = 298*unit.kelvin\n",
    "timestep = 2.0 * unit.femtosecond"
   ]
  },
  {
   "cell_type": "code",
   "execution_count": 24,
   "id": "ff8cf2da",
   "metadata": {
    "ExecuteTime": {
     "end_time": "2023-01-08T09:37:19.578481Z",
     "start_time": "2023-01-08T09:37:19.565178Z"
    }
   },
   "outputs": [],
   "source": [
    "create_system_kwargs = dict(\n",
    "    removeCMMotion=True,\n",
    "    nonbondedMethod=nonbonded_method,\n",
    "    nonbondedCutoff=nonbonded_cutoff,\n",
    "    switchDistance=switch_distance,\n",
    "    constraints=constraints,\n",
    "    hydrogenMass=hydrogen_mass,\n",
    "    rigidWater=True,\n",
    ")"
   ]
  },
  {
   "cell_type": "code",
   "execution_count": 25,
   "id": "ec73fbed",
   "metadata": {
    "ExecuteTime": {
     "end_time": "2023-01-08T09:37:20.185506Z",
     "start_time": "2023-01-08T09:37:20.086189Z"
    }
   },
   "outputs": [],
   "source": [
    "alanine=AlanineDipeptideExplicit(**create_system_kwargs)"
   ]
  },
  {
   "cell_type": "code",
   "execution_count": 26,
   "id": "e9a52f07",
   "metadata": {
    "ExecuteTime": {
     "end_time": "2023-01-08T09:37:20.513582Z",
     "start_time": "2023-01-08T09:37:20.499579Z"
    }
   },
   "outputs": [],
   "source": [
    "system=alanine.system"
   ]
  },
  {
   "cell_type": "code",
   "execution_count": 27,
   "id": "a87f0692",
   "metadata": {
    "ExecuteTime": {
     "end_time": "2023-01-08T09:37:21.011392Z",
     "start_time": "2023-01-08T09:37:20.992377Z"
    },
    "scrolled": true
   },
   "outputs": [],
   "source": [
    "positions=alanine.positions\n",
    "topology=alanine.topology"
   ]
  },
  {
   "cell_type": "code",
   "execution_count": 28,
   "id": "6cc8d288",
   "metadata": {
    "ExecuteTime": {
     "end_time": "2023-01-08T09:37:21.389343Z",
     "start_time": "2023-01-08T09:37:21.380312Z"
    }
   },
   "outputs": [],
   "source": [
    "integrator = mm.LangevinIntegrator(initial_temperature , friction , timestep)\n",
    "integrator.setConstraintTolerance(1e-7)"
   ]
  },
  {
   "cell_type": "code",
   "execution_count": 29,
   "id": "6169b0e6",
   "metadata": {
    "ExecuteTime": {
     "end_time": "2023-01-08T09:37:21.762238Z",
     "start_time": "2023-01-08T09:37:21.744273Z"
    }
   },
   "outputs": [],
   "source": [
    "platform = mm.Platform.getPlatformByName(\"OpenCL\")\n",
    "platform_properties = {\"DeviceIndex\": \"0\", \"Precision\": \"mixed\"}"
   ]
  },
  {
   "cell_type": "code",
   "execution_count": 30,
   "id": "8448c71b",
   "metadata": {
    "ExecuteTime": {
     "end_time": "2023-01-08T09:37:23.881227Z",
     "start_time": "2023-01-08T09:37:22.104364Z"
    }
   },
   "outputs": [],
   "source": [
    "simulation = mm.app.Simulation(topology, system, integrator, platform, platform_properties)\n",
    "simulation.context.setPositions(positions)"
   ]
  },
  {
   "cell_type": "code",
   "execution_count": 31,
   "id": "81d8feee",
   "metadata": {
    "ExecuteTime": {
     "end_time": "2023-01-08T09:37:40.062425Z",
     "start_time": "2023-01-08T09:37:23.882227Z"
    }
   },
   "outputs": [],
   "source": [
    "simulation.minimizeEnergy()\n",
    "simulation.reporters.append(app.DCDReporter(resultsdir+'/NVT-equilibration_{}.dcd'.format(name), 1000))\n",
    "simulation.reporters.append(app.StateDataReporter(resultsdir+'/{}_scalars.csv'.format(name), \n",
    "    1000, time=True, potentialEnergy=True, totalEnergy=True,\n",
    "    temperature=True, speed=True, elapsedTime=True, volume=True))\n"
   ]
  },
  {
   "cell_type": "code",
   "execution_count": 32,
   "id": "07594a2c",
   "metadata": {
    "ExecuteTime": {
     "end_time": "2023-01-08T09:37:40.078471Z",
     "start_time": "2023-01-08T09:37:40.065439Z"
    }
   },
   "outputs": [],
   "source": [
    "n_temp_steps = 100\n",
    "temperature = initial_temperature\n",
    "dtemperature = (final_temperature.value_in_unit(unit.kelvin)-initial_temperature.value_in_unit(unit.kelvin)) / n_temp_steps\n",
    "init_temp_value = initial_temperature.value_in_unit(unit.kelvin)\n",
    "final_temp_value = final_temperature.value_in_unit(unit.kelvin)"
   ]
  },
  {
   "cell_type": "code",
   "execution_count": 33,
   "id": "cf45e64f",
   "metadata": {
    "ExecuteTime": {
     "end_time": "2023-01-08T09:38:48.472838Z",
     "start_time": "2023-01-08T09:37:40.079458Z"
    }
   },
   "outputs": [
    {
     "name": "stdout",
     "output_type": "stream",
     "text": [
      "NVT equilibration will last: 20.0 ps\n",
      "T: 298.00 , 1e+02 % [==================================================X]"
     ]
    }
   ],
   "source": [
    "step_size = 100 #200ps simulation\n",
    "print(f\"NVT equilibration will last: {timestep.in_units_of(unit.picosecond)*step_size*n_temp_steps}\")\n",
    "# Total num of steps = step_size * n_temp_steps\n",
    "for temperature in np.linspace(init_temp_value,final_temp_value,n_temp_steps):\n",
    "    integrator.setTemperature( temperature*unit.kelvin )\n",
    "    simulation.step(step_size)\n",
    "    percentageBar=percentageString(temperature, final_temp_value, 50)\n",
    "    print(\"\\rT: {:.2f} , {:.3} % {}\".format(temperature, temperature/final_temp_value*100, percentageBar), end=\"\")"
   ]
  },
  {
   "cell_type": "code",
   "execution_count": 38,
   "id": "f46f9fff",
   "metadata": {
    "ExecuteTime": {
     "end_time": "2023-01-08T09:41:33.619218Z",
     "start_time": "2023-01-08T09:41:33.551479Z"
    }
   },
   "outputs": [],
   "source": [
    "crd = simulation.context.getState(getPositions=True, enforcePeriodicBox=True).getPositions()\n",
    "app.pdbfile.PDBFile.writeFile(topology, crd, open(resultsdir+'/equilibrated-NVT_{}.pdb'.format(name), 'w'))\n",
    "box = np.array(simulation.context.getState().getPeriodicBoxVectors().value_in_unit(unit.nanometer))\n",
    "a,b,c = box[0,0],box[1,1],box[2,2]\n",
    "np.savetxt(resultsdir+'/NVT-box-lengths_{}.txt'.format(name),np.array((a,b,c)))"
   ]
  }
 ],
 "metadata": {
  "kernelspec": {
   "display_name": "Python 3",
   "language": "python",
   "name": "python3"
  },
  "language_info": {
   "codemirror_mode": {
    "name": "ipython",
    "version": 3
   },
   "file_extension": ".py",
   "mimetype": "text/x-python",
   "name": "python",
   "nbconvert_exporter": "python",
   "pygments_lexer": "ipython3",
   "version": "3.6.15"
  },
  "latex_envs": {
   "LaTeX_envs_menu_present": true,
   "autoclose": false,
   "autocomplete": true,
   "bibliofile": "biblio.bib",
   "cite_by": "apalike",
   "current_citInitial": 1,
   "eqLabelWithNumbers": true,
   "eqNumInitial": 1,
   "hotkeys": {
    "equation": "Ctrl-E",
    "itemize": "Ctrl-I"
   },
   "labels_anchors": false,
   "latex_user_defs": false,
   "report_style_numbering": false,
   "user_envs_cfg": false
  }
 },
 "nbformat": 4,
 "nbformat_minor": 5
}
