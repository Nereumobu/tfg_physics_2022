{
 "cells": [
  {
   "cell_type": "markdown",
   "id": "7f629719",
   "metadata": {},
   "source": [
    "# Analysis of Alanine dipeptide with no Umbrella sampling"
   ]
  },
  {
   "cell_type": "markdown",
   "id": "2b9d2b5e",
   "metadata": {},
   "source": [
    "## Relevant imports"
   ]
  },
  {
   "cell_type": "code",
   "execution_count": 1,
   "id": "8b95a5c2",
   "metadata": {
    "ExecuteTime": {
     "end_time": "2023-02-21T12:20:50.260953Z",
     "start_time": "2023-02-21T12:20:45.600901Z"
    }
   },
   "outputs": [],
   "source": [
    "import os\n",
    "import numpy as np\n",
    "import matplotlib.pyplot as plt\n",
    "import simtk.openmm as mm\n",
    "import simtk.openmm.app as app\n",
    "from openmmtools.testsystems import AlanineDipeptideExplicit\n",
    "import mdtraj as md\n",
    "import seaborn as sns\n",
    "import pandas as pd\n",
    "from matplotlib import ticker\n",
    "import matplotlib as mpl\n",
    "\n",
    "sns.set()"
   ]
  },
  {
   "cell_type": "markdown",
   "id": "88d221f3",
   "metadata": {},
   "source": [
    "## Gathering the data"
   ]
  },
  {
   "cell_type": "markdown",
   "id": "5c6407d8",
   "metadata": {},
   "source": [
    "### Obtaining trajectory"
   ]
  },
  {
   "cell_type": "code",
   "execution_count": 2,
   "id": "222ce6c2",
   "metadata": {
    "ExecuteTime": {
     "end_time": "2023-02-21T12:20:51.765931Z",
     "start_time": "2023-02-21T12:20:50.268955Z"
    }
   },
   "outputs": [],
   "source": [
    "# Set the directory path\n",
    "directory = 'results/alad-015M-15A-run-NOCHARMM-noUS/'\n",
    "\n",
    "# Get the list of all files in the directory\n",
    "files = os.listdir(directory)\n",
    "traj=[]\n",
    "# Iterate over all the files in the directory\n",
    "for file in files:\n",
    "  # Check if the file has the \".chk\" extension\n",
    "    if file.endswith(\"coords.npy\"):\n",
    "        traj.append(np.load(directory+file))\n",
    "traj=np.array(traj)"
   ]
  },
  {
   "cell_type": "code",
   "execution_count": 3,
   "id": "c1639ccf",
   "metadata": {
    "ExecuteTime": {
     "end_time": "2023-02-21T12:20:51.781386Z",
     "start_time": "2023-02-21T12:20:51.765931Z"
    }
   },
   "outputs": [
    {
     "data": {
      "text/plain": [
       "(1000, 50, 22, 3)"
      ]
     },
     "execution_count": 3,
     "metadata": {},
     "output_type": "execute_result"
    }
   ],
   "source": [
    "traj.shape"
   ]
  },
  {
   "cell_type": "code",
   "execution_count": 4,
   "id": "3b545ac0",
   "metadata": {
    "ExecuteTime": {
     "end_time": "2023-02-21T12:20:51.814460Z",
     "start_time": "2023-02-21T12:20:51.783437Z"
    }
   },
   "outputs": [],
   "source": [
    "#We reshape the trajectories as there are 50 snapshots in each np file\n",
    "traj=traj.reshape(1000*50,22,3)"
   ]
  },
  {
   "cell_type": "markdown",
   "id": "1f271faf",
   "metadata": {},
   "source": [
    "### Obtaining topology"
   ]
  },
  {
   "cell_type": "code",
   "execution_count": 5,
   "id": "f42706da",
   "metadata": {
    "ExecuteTime": {
     "end_time": "2023-02-21T12:20:52.150893Z",
     "start_time": "2023-02-21T12:20:51.814460Z"
    }
   },
   "outputs": [],
   "source": [
    "topology_default=AlanineDipeptideExplicit().topology"
   ]
  },
  {
   "cell_type": "code",
   "execution_count": 6,
   "id": "2678f315",
   "metadata": {
    "ExecuteTime": {
     "end_time": "2023-02-21T12:20:52.214902Z",
     "start_time": "2023-02-21T12:20:52.150893Z"
    }
   },
   "outputs": [],
   "source": [
    "all_top=md.Topology.from_openmm(topology_default)\n",
    "atom_list=[]\n",
    "solute_top=md.Topology()\n",
    "# Iterate over the chains in the original Topology\n",
    "for chain in all_top.chains:\n",
    "    # Create a new Chain object in the solute Topology\n",
    "    solute_chain = solute_top.add_chain()\n",
    "    # Iterate over the residues in the chain\n",
    "    for residue in chain.residues:\n",
    "        # If the residue is a solute (ALA) residue, add it to the solute Topology\n",
    "        if residue.name != 'HOH':\n",
    "            solute_top.add_residue(residue.name, solute_chain)\n",
    "            #We append a list that will hold all the atoms of the same residue\n",
    "            atom_list.append([])\n",
    "            for atom in residue.atoms:\n",
    "                #We append tha atoms to their corresponding last list\n",
    "                atom_list[-1].append(atom)\n",
    "\n",
    "#Putting atoms in their residues\n",
    "solute_residue_list=[]\n",
    "for residue in solute_top.residues:\n",
    "    solute_residue_list.append(residue)\n",
    "for indx, atom_group in enumerate(atom_list):\n",
    "    for atom in atom_group:\n",
    "        solute_top.add_atom(atom.name, atom.element, solute_residue_list[indx])\n",
    "                \n",
    "\n",
    "# Iterate over the bonds in the solute residues\n",
    "for bond in all_top.bonds:\n",
    "    # Get the atoms that are bonded\n",
    "    atoms=bond\n",
    "    # If both atoms are in the solute Topology, add the bond\n",
    "    if atoms[0].residue.name != 'HOH' and atoms[1].residue.name != 'HOH':\n",
    "        solute_top.add_bond(atoms[0], atoms[1])\n"
   ]
  },
  {
   "cell_type": "markdown",
   "id": "cbd8e7f7",
   "metadata": {},
   "source": [
    "### Analyzing the data"
   ]
  },
  {
   "cell_type": "code",
   "execution_count": 7,
   "id": "74b6137a",
   "metadata": {
    "ExecuteTime": {
     "end_time": "2023-02-21T12:20:52.246890Z",
     "start_time": "2023-02-21T12:20:52.214902Z"
    }
   },
   "outputs": [],
   "source": [
    "def make2dhist(traj, name):\n",
    "    valphi=md.compute_phi(traj)[1]\n",
    "    valpsi=md.compute_psi(traj)[1]\n",
    "    histphi=np.array([value[0] for value in valphi])*180/(np.pi)\n",
    "    histpsi=np.array([value[0] for value in valpsi])*180/(np.pi)\n",
    "    h=plt.hist2d(histphi,histpsi, bins=100, norm=mpl.colors.LogNorm())[0]\n",
    "    plt.xlabel(\"$\\phi$\")\n",
    "    plt.ylabel(\"$\\psi$\")\n",
    "    plt.title(\"2D histogram for \"+str(name))"
   ]
  },
  {
   "cell_type": "code",
   "execution_count": 8,
   "id": "9d16ce37",
   "metadata": {
    "ExecuteTime": {
     "end_time": "2023-02-21T12:20:52.278891Z",
     "start_time": "2023-02-21T12:20:52.254893Z"
    }
   },
   "outputs": [],
   "source": [
    "#Building trajectory\n",
    "md_traj=md.Trajectory(traj, solute_top)"
   ]
  },
  {
   "cell_type": "code",
   "execution_count": 9,
   "id": "f964327a",
   "metadata": {
    "ExecuteTime": {
     "end_time": "2023-02-21T12:20:52.310894Z",
     "start_time": "2023-02-21T12:20:52.278891Z"
    }
   },
   "outputs": [],
   "source": [
    "valphi=md.compute_phi(md_traj)\n",
    "valpsi=md.compute_psi(md_traj)"
   ]
  },
  {
   "cell_type": "code",
   "execution_count": 10,
   "id": "191edfbb",
   "metadata": {
    "ExecuteTime": {
     "end_time": "2023-02-21T12:20:52.326898Z",
     "start_time": "2023-02-21T12:20:52.310894Z"
    }
   },
   "outputs": [],
   "source": [
    "dihedrals={\n",
    "    \"$\\phi$\":valphi[1].T.reshape(1,-1)[0]*180/(np.pi),\n",
    "    \"$\\psi$\":valpsi[1].T.reshape(1,-1)[0]*180/(np.pi)\n",
    "}"
   ]
  },
  {
   "cell_type": "code",
   "execution_count": 11,
   "id": "0b59a45c",
   "metadata": {
    "ExecuteTime": {
     "end_time": "2023-02-21T12:20:52.358903Z",
     "start_time": "2023-02-21T12:20:52.326898Z"
    }
   },
   "outputs": [
    {
     "data": {
      "text/plain": [
       "{'$\\\\phi$': array([ -67.58905 ,  -68.46616 ,  -57.055458, ..., -141.02965 ,\n",
       "        -137.39749 , -154.33655 ], dtype=float32),\n",
       " '$\\\\psi$': array([126.969086, 131.37482 , 121.32185 , ..., 128.27779 , 109.06701 ,\n",
       "        122.05391 ], dtype=float32)}"
      ]
     },
     "execution_count": 11,
     "metadata": {},
     "output_type": "execute_result"
    }
   ],
   "source": [
    "dihedrals"
   ]
  },
  {
   "cell_type": "code",
   "execution_count": 12,
   "id": "47a37f62",
   "metadata": {
    "ExecuteTime": {
     "end_time": "2023-02-21T12:20:52.374904Z",
     "start_time": "2023-02-21T12:20:52.358903Z"
    }
   },
   "outputs": [],
   "source": [
    "dihedrals_df=pd.DataFrame(dihedrals)"
   ]
  },
  {
   "cell_type": "code",
   "execution_count": 13,
   "id": "71cbe1f8",
   "metadata": {
    "ExecuteTime": {
     "end_time": "2023-02-21T12:20:55.560597Z",
     "start_time": "2023-02-21T12:20:52.374904Z"
    },
    "scrolled": false
   },
   "outputs": [
    {
     "data": {
      "text/plain": [
       "<Figure size 648x648 with 0 Axes>"
      ]
     },
     "execution_count": 13,
     "metadata": {},
     "output_type": "execute_result"
    },
    {
     "data": {
      "image/png": "[encoded data removed]",
      "text/plain": [
       "<Figure size 432x432 with 3 Axes>"
      ]
     },
     "metadata": {},
     "output_type": "display_data"
    },
    {
     "data": {
      "text/plain": [
       "<Figure size 648x648 with 0 Axes>"
      ]
     },
     "metadata": {},
     "output_type": "display_data"
    }
   ],
   "source": [
    "cmap=mpl.colors.Colormap(\"jet\")\n",
    "ax=sns.jointplot(data=dihedrals_df,\n",
    "              x=\"$\\phi$\", y=\"$\\psi$\",\n",
    "              kind=\"hist\", cmap=\"viridis\"\n",
    "                )\n",
    "ax.ax_joint.xaxis.set_major_locator(ticker.MultipleLocator(45))\n",
    "ax.ax_joint.yaxis.set_major_locator(ticker.MultipleLocator(45))\n",
    "plt.figure(figsize=(9,9))"
   ]
  },
  {
   "cell_type": "markdown",
   "id": "11520f48",
   "metadata": {},
   "source": [
    "## Energy and Temperature conservation"
   ]
  },
  {
   "cell_type": "code",
   "execution_count": 14,
   "id": "deaab330",
   "metadata": {
    "ExecuteTime": {
     "end_time": "2023-02-21T12:20:55.576601Z",
     "start_time": "2023-02-21T12:20:55.560597Z"
    }
   },
   "outputs": [],
   "source": [
    "import pandas as pd"
   ]
  },
  {
   "cell_type": "code",
   "execution_count": 15,
   "id": "1c67deb4",
   "metadata": {
    "ExecuteTime": {
     "end_time": "2023-02-21T12:20:55.592601Z",
     "start_time": "2023-02-21T12:20:55.576601Z"
    }
   },
   "outputs": [],
   "source": [
    "#We make a function to see the mean and avarage\n",
    "def plot_mean_std(axis,X, array, color=\"blue\", alpha=0.75, **kwargs):\n",
    "    base=np.zeros(len(array));\n",
    "    mean=base*0+np.mean(array);std=base*0+np.std(array)\n",
    "    axis.plot(X,mean, color=color, alpha=alpha, **kwargs)\n",
    "    axis.fill_between(X, mean-std, mean+std,\n",
    "                   color=color, alpha=alpha*0.25, zorder=10)"
   ]
  },
  {
   "cell_type": "code",
   "execution_count": 16,
   "id": "f63df9d9",
   "metadata": {
    "ExecuteTime": {
     "end_time": "2023-02-21T12:20:55.688614Z",
     "start_time": "2023-02-21T12:20:55.600603Z"
    }
   },
   "outputs": [
    {
     "data": {
      "text/html": [
       "<div>\n",
       "<style scoped>\n",
       "    .dataframe tbody tr th:only-of-type {\n",
       "        vertical-align: middle;\n",
       "    }\n",
       "\n",
       "    .dataframe tbody tr th {\n",
       "        vertical-align: top;\n",
       "    }\n",
       "\n",
       "    .dataframe thead th {\n",
       "        text-align: right;\n",
       "    }\n",
       "</style>\n",
       "<table border=\"1\" class=\"dataframe\">\n",
       "  <thead>\n",
       "    <tr style=\"text-align: right;\">\n",
       "      <th></th>\n",
       "      <th>#\"Time (ps)\"</th>\n",
       "      <th>Potential Energy (kJ/mole)</th>\n",
       "      <th>Total Energy (kJ/mole)</th>\n",
       "      <th>Temperature (K)</th>\n",
       "      <th>Speed (ns/day)</th>\n",
       "      <th>Elapsed Time (s)</th>\n",
       "    </tr>\n",
       "  </thead>\n",
       "  <tbody>\n",
       "    <tr>\n",
       "      <th>0</th>\n",
       "      <td>2.000000</td>\n",
       "      <td>-31811.649694</td>\n",
       "      <td>-26754.041439</td>\n",
       "      <td>267.674251</td>\n",
       "      <td>--</td>\n",
       "      <td>0.000000</td>\n",
       "    </tr>\n",
       "    <tr>\n",
       "      <th>1</th>\n",
       "      <td>4.000000</td>\n",
       "      <td>-30543.901625</td>\n",
       "      <td>-25115.944300</td>\n",
       "      <td>287.275000</td>\n",
       "      <td>32</td>\n",
       "      <td>5.403482</td>\n",
       "    </tr>\n",
       "    <tr>\n",
       "      <th>2</th>\n",
       "      <td>6.000000</td>\n",
       "      <td>-30073.529850</td>\n",
       "      <td>-24649.660810</td>\n",
       "      <td>287.058627</td>\n",
       "      <td>31.7</td>\n",
       "      <td>10.887373</td>\n",
       "    </tr>\n",
       "    <tr>\n",
       "      <th>3</th>\n",
       "      <td>8.000000</td>\n",
       "      <td>-30007.418572</td>\n",
       "      <td>-24708.710002</td>\n",
       "      <td>280.434501</td>\n",
       "      <td>31.7</td>\n",
       "      <td>16.350434</td>\n",
       "    </tr>\n",
       "    <tr>\n",
       "      <th>4</th>\n",
       "      <td>10.000000</td>\n",
       "      <td>-30008.272642</td>\n",
       "      <td>-24246.302838</td>\n",
       "      <td>304.952632</td>\n",
       "      <td>31.7</td>\n",
       "      <td>21.827901</td>\n",
       "    </tr>\n",
       "    <tr>\n",
       "      <th>...</th>\n",
       "      <td>...</td>\n",
       "      <td>...</td>\n",
       "      <td>...</td>\n",
       "      <td>...</td>\n",
       "      <td>...</td>\n",
       "      <td>...</td>\n",
       "    </tr>\n",
       "    <tr>\n",
       "      <th>4995</th>\n",
       "      <td>9992.000001</td>\n",
       "      <td>-30356.630493</td>\n",
       "      <td>-24682.854347</td>\n",
       "      <td>300.284977</td>\n",
       "      <td>30.3</td>\n",
       "      <td>28516.430631</td>\n",
       "    </tr>\n",
       "    <tr>\n",
       "      <th>4996</th>\n",
       "      <td>9994.000001</td>\n",
       "      <td>-30013.782342</td>\n",
       "      <td>-24306.217643</td>\n",
       "      <td>302.073238</td>\n",
       "      <td>30.3</td>\n",
       "      <td>28522.073761</td>\n",
       "    </tr>\n",
       "    <tr>\n",
       "      <th>4997</th>\n",
       "      <td>9996.000001</td>\n",
       "      <td>-30027.907957</td>\n",
       "      <td>-24375.182434</td>\n",
       "      <td>299.170871</td>\n",
       "      <td>30.3</td>\n",
       "      <td>28527.737381</td>\n",
       "    </tr>\n",
       "    <tr>\n",
       "      <th>4998</th>\n",
       "      <td>9998.000001</td>\n",
       "      <td>-29819.435974</td>\n",
       "      <td>-24268.051183</td>\n",
       "      <td>293.807407</td>\n",
       "      <td>30.3</td>\n",
       "      <td>28533.381586</td>\n",
       "    </tr>\n",
       "    <tr>\n",
       "      <th>4999</th>\n",
       "      <td>10000.000001</td>\n",
       "      <td>-29889.170476</td>\n",
       "      <td>-24166.739248</td>\n",
       "      <td>302.860051</td>\n",
       "      <td>30.3</td>\n",
       "      <td>28539.069290</td>\n",
       "    </tr>\n",
       "  </tbody>\n",
       "</table>\n",
       "<p>5000 rows × 6 columns</p>\n",
       "</div>"
      ],
      "text/plain": [
       "      #\"Time (ps)\"  Potential Energy (kJ/mole)  Total Energy (kJ/mole)  \\\n",
       "0         2.000000               -31811.649694           -26754.041439   \n",
       "1         4.000000               -30543.901625           -25115.944300   \n",
       "2         6.000000               -30073.529850           -24649.660810   \n",
       "3         8.000000               -30007.418572           -24708.710002   \n",
       "4        10.000000               -30008.272642           -24246.302838   \n",
       "...            ...                         ...                     ...   \n",
       "4995   9992.000001               -30356.630493           -24682.854347   \n",
       "4996   9994.000001               -30013.782342           -24306.217643   \n",
       "4997   9996.000001               -30027.907957           -24375.182434   \n",
       "4998   9998.000001               -29819.435974           -24268.051183   \n",
       "4999  10000.000001               -29889.170476           -24166.739248   \n",
       "\n",
       "      Temperature (K) Speed (ns/day)  Elapsed Time (s)  \n",
       "0          267.674251             --          0.000000  \n",
       "1          287.275000             32          5.403482  \n",
       "2          287.058627           31.7         10.887373  \n",
       "3          280.434501           31.7         16.350434  \n",
       "4          304.952632           31.7         21.827901  \n",
       "...               ...            ...               ...  \n",
       "4995       300.284977           30.3      28516.430631  \n",
       "4996       302.073238           30.3      28522.073761  \n",
       "4997       299.170871           30.3      28527.737381  \n",
       "4998       293.807407           30.3      28533.381586  \n",
       "4999       302.860051           30.3      28539.069290  \n",
       "\n",
       "[5000 rows x 6 columns]"
      ]
     },
     "execution_count": 16,
     "metadata": {},
     "output_type": "execute_result"
    }
   ],
   "source": [
    "#show data collected\n",
    "data=pd.read_csv(directory+\"alad-015M-15A-scalars-NOCHARMM-noUS.csv\")\n",
    "data"
   ]
  },
  {
   "cell_type": "code",
   "execution_count": 17,
   "id": "ca2749ce",
   "metadata": {
    "ExecuteTime": {
     "end_time": "2023-02-21T12:20:55.704613Z",
     "start_time": "2023-02-21T12:20:55.688614Z"
    }
   },
   "outputs": [
    {
     "data": {
      "text/plain": [
       "Index(['#\"Time (ps)\"', 'Potential Energy (kJ/mole)', 'Total Energy (kJ/mole)',\n",
       "       'Temperature (K)', 'Speed (ns/day)', 'Elapsed Time (s)'],\n",
       "      dtype='object')"
      ]
     },
     "execution_count": 17,
     "metadata": {},
     "output_type": "execute_result"
    }
   ],
   "source": [
    "data.columns"
   ]
  },
  {
   "cell_type": "code",
   "execution_count": 18,
   "id": "a78cd209",
   "metadata": {
    "ExecuteTime": {
     "end_time": "2023-02-21T12:20:56.921579Z",
     "start_time": "2023-02-21T12:20:55.704613Z"
    }
   },
   "outputs": [
    {
     "data": {
      "text/plain": [
       "<matplotlib.legend.Legend at 0x1dc539879b0>"
      ]
     },
     "execution_count": 18,
     "metadata": {},
     "output_type": "execute_result"
    },
    {
     "data": {
      "image/png": "[encoded data removed]",
      "text/plain": [
       "<Figure size 1008x360 with 2 Axes>"
      ]
     },
     "metadata": {},
     "output_type": "display_data"
    }
   ],
   "source": [
    "#Plot Temperature and Energy stability\n",
    "fig, axis=plt.subplots(1,2,figsize=(2*7,5))\n",
    "t=data['#\"Time (ps)\"']; T=data['Temperature (K)']; E=data['Total Energy (kJ/mole)']\n",
    "axis[0].plot(t,T,color=\"orange\", zorder=1)\n",
    "plot_mean_std(axis[0],t, T, color=\"red\", alpha=1,\n",
    "             label=f\"$\\mu=({np.mean(T):.2f}\\pm{np.std(T):.2f})$ K\",\n",
    "             linestyle=\"--\", zorder=10)\n",
    "axis[1].plot(t,E,color=\"green\", zorder=1)\n",
    "plot_mean_std(axis[1],t, E, color=\"lime\", alpha=0.75,\n",
    "             label=f\"$\\mu=({np.mean(E):.2f}\\pm{np.std(E):.2f})$ kJ/mol\",\n",
    "             linestyle=\"--\")\n",
    "axis[1].set_xlabel(\"Time (ps)\"); axis[0].set_ylabel(\"Temperature (K)\")\n",
    "axis[0].set_xlabel(\"Time (ps)\"); axis[1].set_ylabel(\"Total Energy (kJ/mol)\")\n",
    "axis[1].legend(); axis[0].legend()"
   ]
  }
 ],
 "metadata": {
  "kernelspec": {
   "display_name": "Python 3",
   "language": "python",
   "name": "python3"
  },
  "language_info": {
   "codemirror_mode": {
    "name": "ipython",
    "version": 3
   },
   "file_extension": ".py",
   "mimetype": "text/x-python",
   "name": "python",
   "nbconvert_exporter": "python",
   "pygments_lexer": "ipython3",
   "version": "3.6.15"
  },
  "latex_envs": {
   "LaTeX_envs_menu_present": true,
   "autoclose": false,
   "autocomplete": true,
   "bibliofile": "biblio.bib",
   "cite_by": "apalike",
   "current_citInitial": 1,
   "eqLabelWithNumbers": true,
   "eqNumInitial": 1,
   "hotkeys": {
    "equation": "Ctrl-E",
    "itemize": "Ctrl-I"
   },
   "labels_anchors": false,
   "latex_user_defs": false,
   "report_style_numbering": false,
   "user_envs_cfg": false
  }
 },
 "nbformat": 4,
 "nbformat_minor": 5
}
