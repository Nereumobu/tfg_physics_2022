{
 "cells": [
  {
   "cell_type": "code",
   "execution_count": 3,
   "id": "1381f794",
   "metadata": {
    "ExecuteTime": {
     "end_time": "2023-01-08T09:44:51.551735Z",
     "start_time": "2023-01-08T09:44:51.533718Z"
    }
   },
   "outputs": [],
   "source": [
    "import numpy as np\n",
    "import simtk.openmm as mm\n",
    "import simtk.openmm.app as app\n",
    "from simtk.openmm import unit\n",
    "from simtk.openmm.openmm import NonbondedForce\n",
    "import os\n",
    "from openmmtools.testsystems import AlanineDipeptideExplicit\n",
    "import sys"
   ]
  },
  {
   "cell_type": "code",
   "execution_count": 4,
   "id": "6f568ace",
   "metadata": {
    "ExecuteTime": {
     "end_time": "2023-01-08T09:44:52.690278Z",
     "start_time": "2023-01-08T09:44:52.682279Z"
    }
   },
   "outputs": [],
   "source": [
    "def percentageString(progress, total, divisions):\n",
    "    length=total/divisions\n",
    "    stage=int(progress//length)\n",
    "    token=\">\"\n",
    "    if divisions==stage:\n",
    "        token=\"X\"\n",
    "    if divisions-stage<0:\n",
    "        return \"Overcompletion!\"\n",
    "    return \"[\"+\"=\"*stage+token+\" \"*(divisions-stage)+\"]\""
   ]
  },
  {
   "cell_type": "code",
   "execution_count": 5,
   "id": "8d0ff2fe",
   "metadata": {
    "ExecuteTime": {
     "end_time": "2023-01-08T09:44:53.608367Z",
     "start_time": "2023-01-08T09:44:53.599356Z"
    }
   },
   "outputs": [
    {
     "name": "stdout",
     "output_type": "stream",
     "text": [
      "done\n"
     ]
    }
   ],
   "source": [
    "name=\"alad-015M-15A\"\n",
    "run=\"NOCHARMM-NPT\"; fetch_run=\"NOCHARMM-NVT\"\n",
    "resultsdir=\"results/\"+\"{}-run-{}\".format(name,run)\n",
    "fetchdir=\"results/\"+\"{}-run-{}\".format(name,fetch_run)\n",
    "if not os.path.exists(resultsdir):\n",
    "    os.mkdir(resultsdir)\n",
    "    print(\"done\")"
   ]
  },
  {
   "cell_type": "code",
   "execution_count": 6,
   "id": "6f1e6d92",
   "metadata": {
    "ExecuteTime": {
     "end_time": "2023-01-08T09:45:03.171074Z",
     "start_time": "2023-01-08T09:45:03.032294Z"
    }
   },
   "outputs": [],
   "source": [
    "pdb = app.PDBFile(fetchdir+\"/equilibrated-NVT_{}.pdb\".format(name))"
   ]
  },
  {
   "cell_type": "code",
   "execution_count": 7,
   "id": "1ef1a4ba",
   "metadata": {
    "ExecuteTime": {
     "end_time": "2023-01-08T09:45:37.518360Z",
     "start_time": "2023-01-08T09:45:37.508359Z"
    }
   },
   "outputs": [],
   "source": [
    "constraints = app.HBonds\n",
    "nonbonded_cutoff = 1.0*unit.nanometer\n",
    "switch_distance = 0.8*unit.nanometer\n",
    "nonbonded_method = app.PME\n",
    "implicit_solvent = False\n",
    "solvated = True\n",
    "hydrogen_mass = None"
   ]
  },
  {
   "cell_type": "code",
   "execution_count": 8,
   "id": "1a27aaa9",
   "metadata": {
    "ExecuteTime": {
     "end_time": "2023-01-08T09:45:43.401782Z",
     "start_time": "2023-01-08T09:45:43.388822Z"
    }
   },
   "outputs": [],
   "source": [
    "friction = 1.0 / unit.picoseconds\n",
    "pressure = 1.0 * unit.atmosphere\n",
    "temperature = 298*unit.kelvin\n",
    "timestep = 2.0 * unit.femtosecond"
   ]
  },
  {
   "cell_type": "code",
   "execution_count": 9,
   "id": "a48e9168",
   "metadata": {
    "ExecuteTime": {
     "end_time": "2023-01-08T09:45:56.345002Z",
     "start_time": "2023-01-08T09:45:56.326004Z"
    }
   },
   "outputs": [],
   "source": [
    "create_system_kwargs = dict(\n",
    "    removeCMMotion=True,\n",
    "    nonbondedMethod=nonbonded_method,\n",
    "    nonbondedCutoff=nonbonded_cutoff,\n",
    "    switchDistance=switch_distance,\n",
    "    constraints=constraints,\n",
    "    hydrogenMass=hydrogen_mass,\n",
    "    rigidWater=True,\n",
    ")"
   ]
  },
  {
   "cell_type": "code",
   "execution_count": 10,
   "id": "6c9ad0cf",
   "metadata": {
    "ExecuteTime": {
     "end_time": "2023-01-08T09:46:04.823117Z",
     "start_time": "2023-01-08T09:46:04.696769Z"
    }
   },
   "outputs": [],
   "source": [
    "alanine=AlanineDipeptideExplicit(**create_system_kwargs)"
   ]
  },
  {
   "cell_type": "code",
   "execution_count": 11,
   "id": "cba37158",
   "metadata": {
    "ExecuteTime": {
     "end_time": "2023-01-08T09:46:31.504828Z",
     "start_time": "2023-01-08T09:46:31.486834Z"
    }
   },
   "outputs": [],
   "source": [
    "system = alanine.system\n",
    "# Add barostat\n",
    "barostat = mm.MonteCarloBarostat(pressure, temperature)\n",
    "system.addForce(barostat)\n",
    "\n",
    "positions = pdb.getPositions()\n",
    "topology = alanine.topology\n",
    "\n",
    "integrator = mm.LangevinIntegrator(temperature , friction , timestep)\n",
    "integrator.setConstraintTolerance(1e-7)\n",
    "\n",
    "platform = mm.Platform.getPlatformByName(\"OpenCL\")\n",
    "platform_properties = {\"DeviceIndex\": \"0\", \"Precision\": \"mixed\"}"
   ]
  },
  {
   "cell_type": "code",
   "execution_count": 12,
   "id": "9a42a860",
   "metadata": {
    "ExecuteTime": {
     "end_time": "2023-01-08T09:46:36.116105Z",
     "start_time": "2023-01-08T09:46:34.047995Z"
    }
   },
   "outputs": [],
   "source": [
    "simulation = mm.app.Simulation(topology, system, integrator, platform, platform_properties)\n",
    "simulation.context.setPositions(positions)\n",
    "simulation.context.setVelocitiesToTemperature(temperature)"
   ]
  },
  {
   "cell_type": "code",
   "execution_count": 13,
   "id": "f516b262",
   "metadata": {
    "ExecuteTime": {
     "end_time": "2023-01-08T09:46:55.582379Z",
     "start_time": "2023-01-08T09:46:44.831288Z"
    }
   },
   "outputs": [],
   "source": [
    "simulation.minimizeEnergy()\n",
    "simulation.reporters.append(app.DCDReporter(resultsdir+'/NPT-equilibration_{}.dcd'.format(name), 1000))\n",
    "simulation.reporters.append(app.StateDataReporter(resultsdir+'/scalars_{}.csv'.format(name), \n",
    "    1000, time=True, potentialEnergy=True, totalEnergy=True,\n",
    "    temperature=True, speed=True, elapsedTime=True, volume=True))"
   ]
  },
  {
   "cell_type": "code",
   "execution_count": 18,
   "id": "8c7f4dcd",
   "metadata": {
    "ExecuteTime": {
     "end_time": "2023-01-08T09:48:23.861776Z",
     "start_time": "2023-01-08T09:48:23.853774Z"
    }
   },
   "outputs": [
    {
     "name": "stdout",
     "output_type": "stream",
     "text": [
      "3.2853\n"
     ]
    }
   ],
   "source": [
    "step_size = 100\n",
    "n_steps = 500\n",
    "#20000 ps\n",
    "loops = 1\n",
    "box = simulation.context.getState().getPeriodicBoxVectors()\n",
    "print(\"{:.4f}\".format(box[0].x))"
   ]
  },
  {
   "cell_type": "code",
   "execution_count": 19,
   "id": "65ad1f78",
   "metadata": {
    "ExecuteTime": {
     "end_time": "2023-01-08T09:48:25.218205Z",
     "start_time": "2023-01-08T09:48:25.202615Z"
    }
   },
   "outputs": [
    {
     "name": "stdout",
     "output_type": "stream",
     "text": [
      "NPT equilibration will last: 100.0 ps\n"
     ]
    }
   ],
   "source": [
    "print(f\"NPT equilibration will last: {timestep.in_units_of(unit.picosecond)*step_size*n_steps*loops}\")"
   ]
  },
  {
   "cell_type": "code",
   "execution_count": 20,
   "id": "763d919c",
   "metadata": {
    "ExecuteTime": {
     "end_time": "2023-01-08T09:55:03.794951Z",
     "start_time": "2023-01-08T09:48:29.981240Z"
    },
    "scrolled": false
   },
   "outputs": [
    {
     "name": "stdout",
     "output_type": "stream",
     "text": [
      "Box: 2.87917308 , 99.80000 % [=================================================> ]"
     ]
    }
   ],
   "source": [
    "for loop in range(loops):\n",
    "    for ix in range(n_steps):\n",
    "        simulation.step(step_size)\n",
    "        box = simulation.context.getState().getPeriodicBoxVectors()\n",
    "        percentageBar=percentageString(ix, n_steps-1, 50)\n",
    "        print(\"\\rBox: {:.8f} , {:.5f} % {}\".format(box[0].x, ix/n_steps*100, percentageBar), end=\"\")"
   ]
  },
  {
   "cell_type": "code",
   "execution_count": 21,
   "id": "3ffd1ab2",
   "metadata": {
    "ExecuteTime": {
     "end_time": "2023-01-08T09:55:03.856979Z",
     "start_time": "2023-01-08T09:55:03.796951Z"
    }
   },
   "outputs": [],
   "source": [
    "crd = simulation.context.getState(getPositions=True, enforcePeriodicBox=True).getPositions()\n",
    "app.pdbfile.PDBFile.writeFile(topology, crd, open(resultsdir+'/equilibrated-NPT_{}.pdb'.format(name), 'w'))\n",
    "box = np.array(simulation.context.getState().getPeriodicBoxVectors().value_in_unit(unit.nanometer))\n",
    "a,b,c = box[0,0],box[1,1],box[2,2]\n",
    "np.savetxt(resultsdir+'/NPT-box-lengths_{}.txt'.format(name),np.array((a,b,c)))"
   ]
  }
 ],
 "metadata": {
  "kernelspec": {
   "display_name": "Python 3",
   "language": "python",
   "name": "python3"
  },
  "language_info": {
   "codemirror_mode": {
    "name": "ipython",
    "version": 3
   },
   "file_extension": ".py",
   "mimetype": "text/x-python",
   "name": "python",
   "nbconvert_exporter": "python",
   "pygments_lexer": "ipython3",
   "version": "3.6.15"
  },
  "latex_envs": {
   "LaTeX_envs_menu_present": true,
   "autoclose": false,
   "autocomplete": true,
   "bibliofile": "biblio.bib",
   "cite_by": "apalike",
   "current_citInitial": 1,
   "eqLabelWithNumbers": true,
   "eqNumInitial": 1,
   "hotkeys": {
    "equation": "Ctrl-E",
    "itemize": "Ctrl-I"
   },
   "labels_anchors": false,
   "latex_user_defs": false,
   "report_style_numbering": false,
   "user_envs_cfg": false
  }
 },
 "nbformat": 4,
 "nbformat_minor": 5
}
